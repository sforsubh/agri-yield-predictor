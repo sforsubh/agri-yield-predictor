{
  "nbformat": 4,
  "nbformat_minor": 0,
  "metadata": {
    "colab": {
      "provenance": []
    },
    "kernelspec": {
      "name": "python3",
      "display_name": "Python 3"
    },
    "language_info": {
      "name": "python"
    }
  },
  "cells": [
    {
      "cell_type": "code",
      "execution_count": 1,
      "metadata": {
        "id": "DjBYszsv_1To"
      },
      "outputs": [],
      "source": [
        "# Import Libraries\n",
        "import numpy as np\n",
        "import pandas as pd\n",
        "import matplotlib.pyplot as plt\n",
        "import seaborn as sns\n",
        "\n",
        "import warnings"
      ]
    },
    {
      "cell_type": "code",
      "source": [
        "#import file from local\n",
        "from google.colab import files\n",
        "uploaded = files.upload()"
      ],
      "metadata": {
        "colab": {
          "base_uri": "https://localhost:8080/",
          "height": 73
        },
        "id": "W8xuPT8o_4MI",
        "outputId": "766897b3-7345-4759-d902-64ac7b0f7941"
      },
      "execution_count": 2,
      "outputs": [
        {
          "output_type": "display_data",
          "data": {
            "text/plain": [
              "<IPython.core.display.HTML object>"
            ],
            "text/html": [
              "\n",
              "     <input type=\"file\" id=\"files-8c3fd37b-c27b-4476-9ddc-c887523a7b02\" name=\"files[]\" multiple disabled\n",
              "        style=\"border:none\" />\n",
              "     <output id=\"result-8c3fd37b-c27b-4476-9ddc-c887523a7b02\">\n",
              "      Upload widget is only available when the cell has been executed in the\n",
              "      current browser session. Please rerun this cell to enable.\n",
              "      </output>\n",
              "      <script>// Copyright 2017 Google LLC\n",
              "//\n",
              "// Licensed under the Apache License, Version 2.0 (the \"License\");\n",
              "// you may not use this file except in compliance with the License.\n",
              "// You may obtain a copy of the License at\n",
              "//\n",
              "//      http://www.apache.org/licenses/LICENSE-2.0\n",
              "//\n",
              "// Unless required by applicable law or agreed to in writing, software\n",
              "// distributed under the License is distributed on an \"AS IS\" BASIS,\n",
              "// WITHOUT WARRANTIES OR CONDITIONS OF ANY KIND, either express or implied.\n",
              "// See the License for the specific language governing permissions and\n",
              "// limitations under the License.\n",
              "\n",
              "/**\n",
              " * @fileoverview Helpers for google.colab Python module.\n",
              " */\n",
              "(function(scope) {\n",
              "function span(text, styleAttributes = {}) {\n",
              "  const element = document.createElement('span');\n",
              "  element.textContent = text;\n",
              "  for (const key of Object.keys(styleAttributes)) {\n",
              "    element.style[key] = styleAttributes[key];\n",
              "  }\n",
              "  return element;\n",
              "}\n",
              "\n",
              "// Max number of bytes which will be uploaded at a time.\n",
              "const MAX_PAYLOAD_SIZE = 100 * 1024;\n",
              "\n",
              "function _uploadFiles(inputId, outputId) {\n",
              "  const steps = uploadFilesStep(inputId, outputId);\n",
              "  const outputElement = document.getElementById(outputId);\n",
              "  // Cache steps on the outputElement to make it available for the next call\n",
              "  // to uploadFilesContinue from Python.\n",
              "  outputElement.steps = steps;\n",
              "\n",
              "  return _uploadFilesContinue(outputId);\n",
              "}\n",
              "\n",
              "// This is roughly an async generator (not supported in the browser yet),\n",
              "// where there are multiple asynchronous steps and the Python side is going\n",
              "// to poll for completion of each step.\n",
              "// This uses a Promise to block the python side on completion of each step,\n",
              "// then passes the result of the previous step as the input to the next step.\n",
              "function _uploadFilesContinue(outputId) {\n",
              "  const outputElement = document.getElementById(outputId);\n",
              "  const steps = outputElement.steps;\n",
              "\n",
              "  const next = steps.next(outputElement.lastPromiseValue);\n",
              "  return Promise.resolve(next.value.promise).then((value) => {\n",
              "    // Cache the last promise value to make it available to the next\n",
              "    // step of the generator.\n",
              "    outputElement.lastPromiseValue = value;\n",
              "    return next.value.response;\n",
              "  });\n",
              "}\n",
              "\n",
              "/**\n",
              " * Generator function which is called between each async step of the upload\n",
              " * process.\n",
              " * @param {string} inputId Element ID of the input file picker element.\n",
              " * @param {string} outputId Element ID of the output display.\n",
              " * @return {!Iterable<!Object>} Iterable of next steps.\n",
              " */\n",
              "function* uploadFilesStep(inputId, outputId) {\n",
              "  const inputElement = document.getElementById(inputId);\n",
              "  inputElement.disabled = false;\n",
              "\n",
              "  const outputElement = document.getElementById(outputId);\n",
              "  outputElement.innerHTML = '';\n",
              "\n",
              "  const pickedPromise = new Promise((resolve) => {\n",
              "    inputElement.addEventListener('change', (e) => {\n",
              "      resolve(e.target.files);\n",
              "    });\n",
              "  });\n",
              "\n",
              "  const cancel = document.createElement('button');\n",
              "  inputElement.parentElement.appendChild(cancel);\n",
              "  cancel.textContent = 'Cancel upload';\n",
              "  const cancelPromise = new Promise((resolve) => {\n",
              "    cancel.onclick = () => {\n",
              "      resolve(null);\n",
              "    };\n",
              "  });\n",
              "\n",
              "  // Wait for the user to pick the files.\n",
              "  const files = yield {\n",
              "    promise: Promise.race([pickedPromise, cancelPromise]),\n",
              "    response: {\n",
              "      action: 'starting',\n",
              "    }\n",
              "  };\n",
              "\n",
              "  cancel.remove();\n",
              "\n",
              "  // Disable the input element since further picks are not allowed.\n",
              "  inputElement.disabled = true;\n",
              "\n",
              "  if (!files) {\n",
              "    return {\n",
              "      response: {\n",
              "        action: 'complete',\n",
              "      }\n",
              "    };\n",
              "  }\n",
              "\n",
              "  for (const file of files) {\n",
              "    const li = document.createElement('li');\n",
              "    li.append(span(file.name, {fontWeight: 'bold'}));\n",
              "    li.append(span(\n",
              "        `(${file.type || 'n/a'}) - ${file.size} bytes, ` +\n",
              "        `last modified: ${\n",
              "            file.lastModifiedDate ? file.lastModifiedDate.toLocaleDateString() :\n",
              "                                    'n/a'} - `));\n",
              "    const percent = span('0% done');\n",
              "    li.appendChild(percent);\n",
              "\n",
              "    outputElement.appendChild(li);\n",
              "\n",
              "    const fileDataPromise = new Promise((resolve) => {\n",
              "      const reader = new FileReader();\n",
              "      reader.onload = (e) => {\n",
              "        resolve(e.target.result);\n",
              "      };\n",
              "      reader.readAsArrayBuffer(file);\n",
              "    });\n",
              "    // Wait for the data to be ready.\n",
              "    let fileData = yield {\n",
              "      promise: fileDataPromise,\n",
              "      response: {\n",
              "        action: 'continue',\n",
              "      }\n",
              "    };\n",
              "\n",
              "    // Use a chunked sending to avoid message size limits. See b/62115660.\n",
              "    let position = 0;\n",
              "    do {\n",
              "      const length = Math.min(fileData.byteLength - position, MAX_PAYLOAD_SIZE);\n",
              "      const chunk = new Uint8Array(fileData, position, length);\n",
              "      position += length;\n",
              "\n",
              "      const base64 = btoa(String.fromCharCode.apply(null, chunk));\n",
              "      yield {\n",
              "        response: {\n",
              "          action: 'append',\n",
              "          file: file.name,\n",
              "          data: base64,\n",
              "        },\n",
              "      };\n",
              "\n",
              "      let percentDone = fileData.byteLength === 0 ?\n",
              "          100 :\n",
              "          Math.round((position / fileData.byteLength) * 100);\n",
              "      percent.textContent = `${percentDone}% done`;\n",
              "\n",
              "    } while (position < fileData.byteLength);\n",
              "  }\n",
              "\n",
              "  // All done.\n",
              "  yield {\n",
              "    response: {\n",
              "      action: 'complete',\n",
              "    }\n",
              "  };\n",
              "}\n",
              "\n",
              "scope.google = scope.google || {};\n",
              "scope.google.colab = scope.google.colab || {};\n",
              "scope.google.colab._files = {\n",
              "  _uploadFiles,\n",
              "  _uploadFilesContinue,\n",
              "};\n",
              "})(self);\n",
              "</script> "
            ]
          },
          "metadata": {}
        },
        {
          "output_type": "stream",
          "name": "stdout",
          "text": [
            "Saving Indian Agriculture Dataset.csv to Indian Agriculture Dataset.csv\n"
          ]
        }
      ]
    },
    {
      "cell_type": "code",
      "source": [
        "#read csv\n",
        "df = pd.read_csv('Indian Agriculture Dataset.csv')"
      ],
      "metadata": {
        "id": "lF0t4lCwAKpD"
      },
      "execution_count": 7,
      "outputs": []
    },
    {
      "cell_type": "code",
      "source": [
        "# Dataset First Look\n",
        "df.head()"
      ],
      "metadata": {
        "colab": {
          "base_uri": "https://localhost:8080/",
          "height": 310
        },
        "id": "1Waip3KmBjE6",
        "outputId": "2e310d97-59a9-4e4b-ceb1-012070e49b76"
      },
      "execution_count": 8,
      "outputs": [
        {
          "output_type": "execute_result",
          "data": {
            "text/plain": [
              "                         State                  District      Crop     Year  \\\n",
              "0  Andaman and Nicobar Islands                  NICOBARS  Arecanut  2001-02   \n",
              "1  Andaman and Nicobar Islands                  NICOBARS  Arecanut  2002-03   \n",
              "2  Andaman and Nicobar Islands                  NICOBARS  Arecanut  2003-04   \n",
              "3  Andaman and Nicobar Islands  NORTH AND MIDDLE ANDAMAN  Arecanut  2001-02   \n",
              "4  Andaman and Nicobar Islands            SOUTH ANDAMANS  Arecanut  2002-03   \n",
              "\n",
              "       Season    Area Area Units  Production Production Units     Yield  \n",
              "0      Kharif  1254.0    Hectare      2061.0           Tonnes  1.643541  \n",
              "1  Whole Year  1258.0    Hectare      2083.0           Tonnes  1.655803  \n",
              "2  Whole Year  1261.0    Hectare      1525.0           Tonnes  1.209358  \n",
              "3      Kharif  3100.0    Hectare      5239.0           Tonnes  1.690000  \n",
              "4  Whole Year  3105.0    Hectare      5267.0           Tonnes  1.696296  "
            ],
            "text/html": [
              "\n",
              "  <div id=\"df-2d5b844b-d096-4f29-a843-b04eb5a0835e\" class=\"colab-df-container\">\n",
              "    <div>\n",
              "<style scoped>\n",
              "    .dataframe tbody tr th:only-of-type {\n",
              "        vertical-align: middle;\n",
              "    }\n",
              "\n",
              "    .dataframe tbody tr th {\n",
              "        vertical-align: top;\n",
              "    }\n",
              "\n",
              "    .dataframe thead th {\n",
              "        text-align: right;\n",
              "    }\n",
              "</style>\n",
              "<table border=\"1\" class=\"dataframe\">\n",
              "  <thead>\n",
              "    <tr style=\"text-align: right;\">\n",
              "      <th></th>\n",
              "      <th>State</th>\n",
              "      <th>District</th>\n",
              "      <th>Crop</th>\n",
              "      <th>Year</th>\n",
              "      <th>Season</th>\n",
              "      <th>Area</th>\n",
              "      <th>Area Units</th>\n",
              "      <th>Production</th>\n",
              "      <th>Production Units</th>\n",
              "      <th>Yield</th>\n",
              "    </tr>\n",
              "  </thead>\n",
              "  <tbody>\n",
              "    <tr>\n",
              "      <th>0</th>\n",
              "      <td>Andaman and Nicobar Islands</td>\n",
              "      <td>NICOBARS</td>\n",
              "      <td>Arecanut</td>\n",
              "      <td>2001-02</td>\n",
              "      <td>Kharif</td>\n",
              "      <td>1254.0</td>\n",
              "      <td>Hectare</td>\n",
              "      <td>2061.0</td>\n",
              "      <td>Tonnes</td>\n",
              "      <td>1.643541</td>\n",
              "    </tr>\n",
              "    <tr>\n",
              "      <th>1</th>\n",
              "      <td>Andaman and Nicobar Islands</td>\n",
              "      <td>NICOBARS</td>\n",
              "      <td>Arecanut</td>\n",
              "      <td>2002-03</td>\n",
              "      <td>Whole Year</td>\n",
              "      <td>1258.0</td>\n",
              "      <td>Hectare</td>\n",
              "      <td>2083.0</td>\n",
              "      <td>Tonnes</td>\n",
              "      <td>1.655803</td>\n",
              "    </tr>\n",
              "    <tr>\n",
              "      <th>2</th>\n",
              "      <td>Andaman and Nicobar Islands</td>\n",
              "      <td>NICOBARS</td>\n",
              "      <td>Arecanut</td>\n",
              "      <td>2003-04</td>\n",
              "      <td>Whole Year</td>\n",
              "      <td>1261.0</td>\n",
              "      <td>Hectare</td>\n",
              "      <td>1525.0</td>\n",
              "      <td>Tonnes</td>\n",
              "      <td>1.209358</td>\n",
              "    </tr>\n",
              "    <tr>\n",
              "      <th>3</th>\n",
              "      <td>Andaman and Nicobar Islands</td>\n",
              "      <td>NORTH AND MIDDLE ANDAMAN</td>\n",
              "      <td>Arecanut</td>\n",
              "      <td>2001-02</td>\n",
              "      <td>Kharif</td>\n",
              "      <td>3100.0</td>\n",
              "      <td>Hectare</td>\n",
              "      <td>5239.0</td>\n",
              "      <td>Tonnes</td>\n",
              "      <td>1.690000</td>\n",
              "    </tr>\n",
              "    <tr>\n",
              "      <th>4</th>\n",
              "      <td>Andaman and Nicobar Islands</td>\n",
              "      <td>SOUTH ANDAMANS</td>\n",
              "      <td>Arecanut</td>\n",
              "      <td>2002-03</td>\n",
              "      <td>Whole Year</td>\n",
              "      <td>3105.0</td>\n",
              "      <td>Hectare</td>\n",
              "      <td>5267.0</td>\n",
              "      <td>Tonnes</td>\n",
              "      <td>1.696296</td>\n",
              "    </tr>\n",
              "  </tbody>\n",
              "</table>\n",
              "</div>\n",
              "    <div class=\"colab-df-buttons\">\n",
              "\n",
              "  <div class=\"colab-df-container\">\n",
              "    <button class=\"colab-df-convert\" onclick=\"convertToInteractive('df-2d5b844b-d096-4f29-a843-b04eb5a0835e')\"\n",
              "            title=\"Convert this dataframe to an interactive table.\"\n",
              "            style=\"display:none;\">\n",
              "\n",
              "  <svg xmlns=\"http://www.w3.org/2000/svg\" height=\"24px\" viewBox=\"0 -960 960 960\">\n",
              "    <path d=\"M120-120v-720h720v720H120Zm60-500h600v-160H180v160Zm220 220h160v-160H400v160Zm0 220h160v-160H400v160ZM180-400h160v-160H180v160Zm440 0h160v-160H620v160ZM180-180h160v-160H180v160Zm440 0h160v-160H620v160Z\"/>\n",
              "  </svg>\n",
              "    </button>\n",
              "\n",
              "  <style>\n",
              "    .colab-df-container {\n",
              "      display:flex;\n",
              "      gap: 12px;\n",
              "    }\n",
              "\n",
              "    .colab-df-convert {\n",
              "      background-color: #E8F0FE;\n",
              "      border: none;\n",
              "      border-radius: 50%;\n",
              "      cursor: pointer;\n",
              "      display: none;\n",
              "      fill: #1967D2;\n",
              "      height: 32px;\n",
              "      padding: 0 0 0 0;\n",
              "      width: 32px;\n",
              "    }\n",
              "\n",
              "    .colab-df-convert:hover {\n",
              "      background-color: #E2EBFA;\n",
              "      box-shadow: 0px 1px 2px rgba(60, 64, 67, 0.3), 0px 1px 3px 1px rgba(60, 64, 67, 0.15);\n",
              "      fill: #174EA6;\n",
              "    }\n",
              "\n",
              "    .colab-df-buttons div {\n",
              "      margin-bottom: 4px;\n",
              "    }\n",
              "\n",
              "    [theme=dark] .colab-df-convert {\n",
              "      background-color: #3B4455;\n",
              "      fill: #D2E3FC;\n",
              "    }\n",
              "\n",
              "    [theme=dark] .colab-df-convert:hover {\n",
              "      background-color: #434B5C;\n",
              "      box-shadow: 0px 1px 3px 1px rgba(0, 0, 0, 0.15);\n",
              "      filter: drop-shadow(0px 1px 2px rgba(0, 0, 0, 0.3));\n",
              "      fill: #FFFFFF;\n",
              "    }\n",
              "  </style>\n",
              "\n",
              "    <script>\n",
              "      const buttonEl =\n",
              "        document.querySelector('#df-2d5b844b-d096-4f29-a843-b04eb5a0835e button.colab-df-convert');\n",
              "      buttonEl.style.display =\n",
              "        google.colab.kernel.accessAllowed ? 'block' : 'none';\n",
              "\n",
              "      async function convertToInteractive(key) {\n",
              "        const element = document.querySelector('#df-2d5b844b-d096-4f29-a843-b04eb5a0835e');\n",
              "        const dataTable =\n",
              "          await google.colab.kernel.invokeFunction('convertToInteractive',\n",
              "                                                    [key], {});\n",
              "        if (!dataTable) return;\n",
              "\n",
              "        const docLinkHtml = 'Like what you see? Visit the ' +\n",
              "          '<a target=\"_blank\" href=https://colab.research.google.com/notebooks/data_table.ipynb>data table notebook</a>'\n",
              "          + ' to learn more about interactive tables.';\n",
              "        element.innerHTML = '';\n",
              "        dataTable['output_type'] = 'display_data';\n",
              "        await google.colab.output.renderOutput(dataTable, element);\n",
              "        const docLink = document.createElement('div');\n",
              "        docLink.innerHTML = docLinkHtml;\n",
              "        element.appendChild(docLink);\n",
              "      }\n",
              "    </script>\n",
              "  </div>\n",
              "\n",
              "\n",
              "    <div id=\"df-1aeeb9b1-6abc-490c-a20d-48b9f5885dcd\">\n",
              "      <button class=\"colab-df-quickchart\" onclick=\"quickchart('df-1aeeb9b1-6abc-490c-a20d-48b9f5885dcd')\"\n",
              "                title=\"Suggest charts\"\n",
              "                style=\"display:none;\">\n",
              "\n",
              "<svg xmlns=\"http://www.w3.org/2000/svg\" height=\"24px\"viewBox=\"0 0 24 24\"\n",
              "     width=\"24px\">\n",
              "    <g>\n",
              "        <path d=\"M19 3H5c-1.1 0-2 .9-2 2v14c0 1.1.9 2 2 2h14c1.1 0 2-.9 2-2V5c0-1.1-.9-2-2-2zM9 17H7v-7h2v7zm4 0h-2V7h2v10zm4 0h-2v-4h2v4z\"/>\n",
              "    </g>\n",
              "</svg>\n",
              "      </button>\n",
              "\n",
              "<style>\n",
              "  .colab-df-quickchart {\n",
              "      --bg-color: #E8F0FE;\n",
              "      --fill-color: #1967D2;\n",
              "      --hover-bg-color: #E2EBFA;\n",
              "      --hover-fill-color: #174EA6;\n",
              "      --disabled-fill-color: #AAA;\n",
              "      --disabled-bg-color: #DDD;\n",
              "  }\n",
              "\n",
              "  [theme=dark] .colab-df-quickchart {\n",
              "      --bg-color: #3B4455;\n",
              "      --fill-color: #D2E3FC;\n",
              "      --hover-bg-color: #434B5C;\n",
              "      --hover-fill-color: #FFFFFF;\n",
              "      --disabled-bg-color: #3B4455;\n",
              "      --disabled-fill-color: #666;\n",
              "  }\n",
              "\n",
              "  .colab-df-quickchart {\n",
              "    background-color: var(--bg-color);\n",
              "    border: none;\n",
              "    border-radius: 50%;\n",
              "    cursor: pointer;\n",
              "    display: none;\n",
              "    fill: var(--fill-color);\n",
              "    height: 32px;\n",
              "    padding: 0;\n",
              "    width: 32px;\n",
              "  }\n",
              "\n",
              "  .colab-df-quickchart:hover {\n",
              "    background-color: var(--hover-bg-color);\n",
              "    box-shadow: 0 1px 2px rgba(60, 64, 67, 0.3), 0 1px 3px 1px rgba(60, 64, 67, 0.15);\n",
              "    fill: var(--button-hover-fill-color);\n",
              "  }\n",
              "\n",
              "  .colab-df-quickchart-complete:disabled,\n",
              "  .colab-df-quickchart-complete:disabled:hover {\n",
              "    background-color: var(--disabled-bg-color);\n",
              "    fill: var(--disabled-fill-color);\n",
              "    box-shadow: none;\n",
              "  }\n",
              "\n",
              "  .colab-df-spinner {\n",
              "    border: 2px solid var(--fill-color);\n",
              "    border-color: transparent;\n",
              "    border-bottom-color: var(--fill-color);\n",
              "    animation:\n",
              "      spin 1s steps(1) infinite;\n",
              "  }\n",
              "\n",
              "  @keyframes spin {\n",
              "    0% {\n",
              "      border-color: transparent;\n",
              "      border-bottom-color: var(--fill-color);\n",
              "      border-left-color: var(--fill-color);\n",
              "    }\n",
              "    20% {\n",
              "      border-color: transparent;\n",
              "      border-left-color: var(--fill-color);\n",
              "      border-top-color: var(--fill-color);\n",
              "    }\n",
              "    30% {\n",
              "      border-color: transparent;\n",
              "      border-left-color: var(--fill-color);\n",
              "      border-top-color: var(--fill-color);\n",
              "      border-right-color: var(--fill-color);\n",
              "    }\n",
              "    40% {\n",
              "      border-color: transparent;\n",
              "      border-right-color: var(--fill-color);\n",
              "      border-top-color: var(--fill-color);\n",
              "    }\n",
              "    60% {\n",
              "      border-color: transparent;\n",
              "      border-right-color: var(--fill-color);\n",
              "    }\n",
              "    80% {\n",
              "      border-color: transparent;\n",
              "      border-right-color: var(--fill-color);\n",
              "      border-bottom-color: var(--fill-color);\n",
              "    }\n",
              "    90% {\n",
              "      border-color: transparent;\n",
              "      border-bottom-color: var(--fill-color);\n",
              "    }\n",
              "  }\n",
              "</style>\n",
              "\n",
              "      <script>\n",
              "        async function quickchart(key) {\n",
              "          const quickchartButtonEl =\n",
              "            document.querySelector('#' + key + ' button');\n",
              "          quickchartButtonEl.disabled = true;  // To prevent multiple clicks.\n",
              "          quickchartButtonEl.classList.add('colab-df-spinner');\n",
              "          try {\n",
              "            const charts = await google.colab.kernel.invokeFunction(\n",
              "                'suggestCharts', [key], {});\n",
              "          } catch (error) {\n",
              "            console.error('Error during call to suggestCharts:', error);\n",
              "          }\n",
              "          quickchartButtonEl.classList.remove('colab-df-spinner');\n",
              "          quickchartButtonEl.classList.add('colab-df-quickchart-complete');\n",
              "        }\n",
              "        (() => {\n",
              "          let quickchartButtonEl =\n",
              "            document.querySelector('#df-1aeeb9b1-6abc-490c-a20d-48b9f5885dcd button');\n",
              "          quickchartButtonEl.style.display =\n",
              "            google.colab.kernel.accessAllowed ? 'block' : 'none';\n",
              "        })();\n",
              "      </script>\n",
              "    </div>\n",
              "\n",
              "    </div>\n",
              "  </div>\n"
            ],
            "application/vnd.google.colaboratory.intrinsic+json": {
              "type": "dataframe",
              "variable_name": "df"
            }
          },
          "metadata": {},
          "execution_count": 8
        }
      ]
    },
    {
      "cell_type": "code",
      "source": [
        "# Dataset Last Look\n",
        "df.tail()"
      ],
      "metadata": {
        "colab": {
          "base_uri": "https://localhost:8080/",
          "height": 206
        },
        "id": "z6tUnzI9Blez",
        "outputId": "2ebf220b-ec1a-4ecd-a0e6-d6548fe21547"
      },
      "execution_count": 9,
      "outputs": [
        {
          "output_type": "execute_result",
          "data": {
            "text/plain": [
              "          State     District Crop     Year Season  Area Area Units  \\\n",
              "345402  Manipur  IMPHAL WEST  NaN  2019-20   Rabi   NaN    Hectare   \n",
              "345403  Manipur     SENAPATI  NaN  2019-20   Rabi   NaN    Hectare   \n",
              "345404  Manipur   TAMENGLONG  NaN  2019-20   Rabi   NaN    Hectare   \n",
              "345405  Manipur      THOUBAL  NaN  2019-20   Rabi   NaN    Hectare   \n",
              "345406  Manipur       UKHRUL  NaN  2019-20   Rabi   NaN    Hectare   \n",
              "\n",
              "        Production Production Units  Yield  \n",
              "345402         NaN           Tonnes    NaN  \n",
              "345403         NaN           Tonnes    NaN  \n",
              "345404         NaN           Tonnes    NaN  \n",
              "345405         NaN           Tonnes    NaN  \n",
              "345406         NaN           Tonnes    NaN  "
            ],
            "text/html": [
              "\n",
              "  <div id=\"df-a8e1335a-98bd-4f04-88bc-94fe22c15459\" class=\"colab-df-container\">\n",
              "    <div>\n",
              "<style scoped>\n",
              "    .dataframe tbody tr th:only-of-type {\n",
              "        vertical-align: middle;\n",
              "    }\n",
              "\n",
              "    .dataframe tbody tr th {\n",
              "        vertical-align: top;\n",
              "    }\n",
              "\n",
              "    .dataframe thead th {\n",
              "        text-align: right;\n",
              "    }\n",
              "</style>\n",
              "<table border=\"1\" class=\"dataframe\">\n",
              "  <thead>\n",
              "    <tr style=\"text-align: right;\">\n",
              "      <th></th>\n",
              "      <th>State</th>\n",
              "      <th>District</th>\n",
              "      <th>Crop</th>\n",
              "      <th>Year</th>\n",
              "      <th>Season</th>\n",
              "      <th>Area</th>\n",
              "      <th>Area Units</th>\n",
              "      <th>Production</th>\n",
              "      <th>Production Units</th>\n",
              "      <th>Yield</th>\n",
              "    </tr>\n",
              "  </thead>\n",
              "  <tbody>\n",
              "    <tr>\n",
              "      <th>345402</th>\n",
              "      <td>Manipur</td>\n",
              "      <td>IMPHAL WEST</td>\n",
              "      <td>NaN</td>\n",
              "      <td>2019-20</td>\n",
              "      <td>Rabi</td>\n",
              "      <td>NaN</td>\n",
              "      <td>Hectare</td>\n",
              "      <td>NaN</td>\n",
              "      <td>Tonnes</td>\n",
              "      <td>NaN</td>\n",
              "    </tr>\n",
              "    <tr>\n",
              "      <th>345403</th>\n",
              "      <td>Manipur</td>\n",
              "      <td>SENAPATI</td>\n",
              "      <td>NaN</td>\n",
              "      <td>2019-20</td>\n",
              "      <td>Rabi</td>\n",
              "      <td>NaN</td>\n",
              "      <td>Hectare</td>\n",
              "      <td>NaN</td>\n",
              "      <td>Tonnes</td>\n",
              "      <td>NaN</td>\n",
              "    </tr>\n",
              "    <tr>\n",
              "      <th>345404</th>\n",
              "      <td>Manipur</td>\n",
              "      <td>TAMENGLONG</td>\n",
              "      <td>NaN</td>\n",
              "      <td>2019-20</td>\n",
              "      <td>Rabi</td>\n",
              "      <td>NaN</td>\n",
              "      <td>Hectare</td>\n",
              "      <td>NaN</td>\n",
              "      <td>Tonnes</td>\n",
              "      <td>NaN</td>\n",
              "    </tr>\n",
              "    <tr>\n",
              "      <th>345405</th>\n",
              "      <td>Manipur</td>\n",
              "      <td>THOUBAL</td>\n",
              "      <td>NaN</td>\n",
              "      <td>2019-20</td>\n",
              "      <td>Rabi</td>\n",
              "      <td>NaN</td>\n",
              "      <td>Hectare</td>\n",
              "      <td>NaN</td>\n",
              "      <td>Tonnes</td>\n",
              "      <td>NaN</td>\n",
              "    </tr>\n",
              "    <tr>\n",
              "      <th>345406</th>\n",
              "      <td>Manipur</td>\n",
              "      <td>UKHRUL</td>\n",
              "      <td>NaN</td>\n",
              "      <td>2019-20</td>\n",
              "      <td>Rabi</td>\n",
              "      <td>NaN</td>\n",
              "      <td>Hectare</td>\n",
              "      <td>NaN</td>\n",
              "      <td>Tonnes</td>\n",
              "      <td>NaN</td>\n",
              "    </tr>\n",
              "  </tbody>\n",
              "</table>\n",
              "</div>\n",
              "    <div class=\"colab-df-buttons\">\n",
              "\n",
              "  <div class=\"colab-df-container\">\n",
              "    <button class=\"colab-df-convert\" onclick=\"convertToInteractive('df-a8e1335a-98bd-4f04-88bc-94fe22c15459')\"\n",
              "            title=\"Convert this dataframe to an interactive table.\"\n",
              "            style=\"display:none;\">\n",
              "\n",
              "  <svg xmlns=\"http://www.w3.org/2000/svg\" height=\"24px\" viewBox=\"0 -960 960 960\">\n",
              "    <path d=\"M120-120v-720h720v720H120Zm60-500h600v-160H180v160Zm220 220h160v-160H400v160Zm0 220h160v-160H400v160ZM180-400h160v-160H180v160Zm440 0h160v-160H620v160ZM180-180h160v-160H180v160Zm440 0h160v-160H620v160Z\"/>\n",
              "  </svg>\n",
              "    </button>\n",
              "\n",
              "  <style>\n",
              "    .colab-df-container {\n",
              "      display:flex;\n",
              "      gap: 12px;\n",
              "    }\n",
              "\n",
              "    .colab-df-convert {\n",
              "      background-color: #E8F0FE;\n",
              "      border: none;\n",
              "      border-radius: 50%;\n",
              "      cursor: pointer;\n",
              "      display: none;\n",
              "      fill: #1967D2;\n",
              "      height: 32px;\n",
              "      padding: 0 0 0 0;\n",
              "      width: 32px;\n",
              "    }\n",
              "\n",
              "    .colab-df-convert:hover {\n",
              "      background-color: #E2EBFA;\n",
              "      box-shadow: 0px 1px 2px rgba(60, 64, 67, 0.3), 0px 1px 3px 1px rgba(60, 64, 67, 0.15);\n",
              "      fill: #174EA6;\n",
              "    }\n",
              "\n",
              "    .colab-df-buttons div {\n",
              "      margin-bottom: 4px;\n",
              "    }\n",
              "\n",
              "    [theme=dark] .colab-df-convert {\n",
              "      background-color: #3B4455;\n",
              "      fill: #D2E3FC;\n",
              "    }\n",
              "\n",
              "    [theme=dark] .colab-df-convert:hover {\n",
              "      background-color: #434B5C;\n",
              "      box-shadow: 0px 1px 3px 1px rgba(0, 0, 0, 0.15);\n",
              "      filter: drop-shadow(0px 1px 2px rgba(0, 0, 0, 0.3));\n",
              "      fill: #FFFFFF;\n",
              "    }\n",
              "  </style>\n",
              "\n",
              "    <script>\n",
              "      const buttonEl =\n",
              "        document.querySelector('#df-a8e1335a-98bd-4f04-88bc-94fe22c15459 button.colab-df-convert');\n",
              "      buttonEl.style.display =\n",
              "        google.colab.kernel.accessAllowed ? 'block' : 'none';\n",
              "\n",
              "      async function convertToInteractive(key) {\n",
              "        const element = document.querySelector('#df-a8e1335a-98bd-4f04-88bc-94fe22c15459');\n",
              "        const dataTable =\n",
              "          await google.colab.kernel.invokeFunction('convertToInteractive',\n",
              "                                                    [key], {});\n",
              "        if (!dataTable) return;\n",
              "\n",
              "        const docLinkHtml = 'Like what you see? Visit the ' +\n",
              "          '<a target=\"_blank\" href=https://colab.research.google.com/notebooks/data_table.ipynb>data table notebook</a>'\n",
              "          + ' to learn more about interactive tables.';\n",
              "        element.innerHTML = '';\n",
              "        dataTable['output_type'] = 'display_data';\n",
              "        await google.colab.output.renderOutput(dataTable, element);\n",
              "        const docLink = document.createElement('div');\n",
              "        docLink.innerHTML = docLinkHtml;\n",
              "        element.appendChild(docLink);\n",
              "      }\n",
              "    </script>\n",
              "  </div>\n",
              "\n",
              "\n",
              "    <div id=\"df-0f154199-8b4c-4dfd-804c-c2739e686c44\">\n",
              "      <button class=\"colab-df-quickchart\" onclick=\"quickchart('df-0f154199-8b4c-4dfd-804c-c2739e686c44')\"\n",
              "                title=\"Suggest charts\"\n",
              "                style=\"display:none;\">\n",
              "\n",
              "<svg xmlns=\"http://www.w3.org/2000/svg\" height=\"24px\"viewBox=\"0 0 24 24\"\n",
              "     width=\"24px\">\n",
              "    <g>\n",
              "        <path d=\"M19 3H5c-1.1 0-2 .9-2 2v14c0 1.1.9 2 2 2h14c1.1 0 2-.9 2-2V5c0-1.1-.9-2-2-2zM9 17H7v-7h2v7zm4 0h-2V7h2v10zm4 0h-2v-4h2v4z\"/>\n",
              "    </g>\n",
              "</svg>\n",
              "      </button>\n",
              "\n",
              "<style>\n",
              "  .colab-df-quickchart {\n",
              "      --bg-color: #E8F0FE;\n",
              "      --fill-color: #1967D2;\n",
              "      --hover-bg-color: #E2EBFA;\n",
              "      --hover-fill-color: #174EA6;\n",
              "      --disabled-fill-color: #AAA;\n",
              "      --disabled-bg-color: #DDD;\n",
              "  }\n",
              "\n",
              "  [theme=dark] .colab-df-quickchart {\n",
              "      --bg-color: #3B4455;\n",
              "      --fill-color: #D2E3FC;\n",
              "      --hover-bg-color: #434B5C;\n",
              "      --hover-fill-color: #FFFFFF;\n",
              "      --disabled-bg-color: #3B4455;\n",
              "      --disabled-fill-color: #666;\n",
              "  }\n",
              "\n",
              "  .colab-df-quickchart {\n",
              "    background-color: var(--bg-color);\n",
              "    border: none;\n",
              "    border-radius: 50%;\n",
              "    cursor: pointer;\n",
              "    display: none;\n",
              "    fill: var(--fill-color);\n",
              "    height: 32px;\n",
              "    padding: 0;\n",
              "    width: 32px;\n",
              "  }\n",
              "\n",
              "  .colab-df-quickchart:hover {\n",
              "    background-color: var(--hover-bg-color);\n",
              "    box-shadow: 0 1px 2px rgba(60, 64, 67, 0.3), 0 1px 3px 1px rgba(60, 64, 67, 0.15);\n",
              "    fill: var(--button-hover-fill-color);\n",
              "  }\n",
              "\n",
              "  .colab-df-quickchart-complete:disabled,\n",
              "  .colab-df-quickchart-complete:disabled:hover {\n",
              "    background-color: var(--disabled-bg-color);\n",
              "    fill: var(--disabled-fill-color);\n",
              "    box-shadow: none;\n",
              "  }\n",
              "\n",
              "  .colab-df-spinner {\n",
              "    border: 2px solid var(--fill-color);\n",
              "    border-color: transparent;\n",
              "    border-bottom-color: var(--fill-color);\n",
              "    animation:\n",
              "      spin 1s steps(1) infinite;\n",
              "  }\n",
              "\n",
              "  @keyframes spin {\n",
              "    0% {\n",
              "      border-color: transparent;\n",
              "      border-bottom-color: var(--fill-color);\n",
              "      border-left-color: var(--fill-color);\n",
              "    }\n",
              "    20% {\n",
              "      border-color: transparent;\n",
              "      border-left-color: var(--fill-color);\n",
              "      border-top-color: var(--fill-color);\n",
              "    }\n",
              "    30% {\n",
              "      border-color: transparent;\n",
              "      border-left-color: var(--fill-color);\n",
              "      border-top-color: var(--fill-color);\n",
              "      border-right-color: var(--fill-color);\n",
              "    }\n",
              "    40% {\n",
              "      border-color: transparent;\n",
              "      border-right-color: var(--fill-color);\n",
              "      border-top-color: var(--fill-color);\n",
              "    }\n",
              "    60% {\n",
              "      border-color: transparent;\n",
              "      border-right-color: var(--fill-color);\n",
              "    }\n",
              "    80% {\n",
              "      border-color: transparent;\n",
              "      border-right-color: var(--fill-color);\n",
              "      border-bottom-color: var(--fill-color);\n",
              "    }\n",
              "    90% {\n",
              "      border-color: transparent;\n",
              "      border-bottom-color: var(--fill-color);\n",
              "    }\n",
              "  }\n",
              "</style>\n",
              "\n",
              "      <script>\n",
              "        async function quickchart(key) {\n",
              "          const quickchartButtonEl =\n",
              "            document.querySelector('#' + key + ' button');\n",
              "          quickchartButtonEl.disabled = true;  // To prevent multiple clicks.\n",
              "          quickchartButtonEl.classList.add('colab-df-spinner');\n",
              "          try {\n",
              "            const charts = await google.colab.kernel.invokeFunction(\n",
              "                'suggestCharts', [key], {});\n",
              "          } catch (error) {\n",
              "            console.error('Error during call to suggestCharts:', error);\n",
              "          }\n",
              "          quickchartButtonEl.classList.remove('colab-df-spinner');\n",
              "          quickchartButtonEl.classList.add('colab-df-quickchart-complete');\n",
              "        }\n",
              "        (() => {\n",
              "          let quickchartButtonEl =\n",
              "            document.querySelector('#df-0f154199-8b4c-4dfd-804c-c2739e686c44 button');\n",
              "          quickchartButtonEl.style.display =\n",
              "            google.colab.kernel.accessAllowed ? 'block' : 'none';\n",
              "        })();\n",
              "      </script>\n",
              "    </div>\n",
              "\n",
              "    </div>\n",
              "  </div>\n"
            ],
            "application/vnd.google.colaboratory.intrinsic+json": {
              "type": "dataframe",
              "repr_error": "0"
            }
          },
          "metadata": {},
          "execution_count": 9
        }
      ]
    },
    {
      "cell_type": "code",
      "source": [
        "# Dataset Rows & Columns count\n",
        "print(\"data observations: \",df.shape)"
      ],
      "metadata": {
        "colab": {
          "base_uri": "https://localhost:8080/"
        },
        "id": "2TC_f3i9BoSb",
        "outputId": "4a615786-2974-4cba-8e06-907c1ee3ed24"
      },
      "execution_count": 10,
      "outputs": [
        {
          "output_type": "stream",
          "name": "stdout",
          "text": [
            "data observations:  (345407, 10)\n"
          ]
        }
      ]
    },
    {
      "cell_type": "code",
      "source": [
        "# Dataset Info\n",
        "df.info()"
      ],
      "metadata": {
        "colab": {
          "base_uri": "https://localhost:8080/"
        },
        "id": "FRxdCxJxBrR4",
        "outputId": "68e8ee25-f7c4-4149-ab5e-43ecaa2e52fd"
      },
      "execution_count": 11,
      "outputs": [
        {
          "output_type": "stream",
          "name": "stdout",
          "text": [
            "<class 'pandas.core.frame.DataFrame'>\n",
            "RangeIndex: 345407 entries, 0 to 345406\n",
            "Data columns (total 10 columns):\n",
            " #   Column            Non-Null Count   Dtype  \n",
            "---  ------            --------------   -----  \n",
            " 0   State             345407 non-null  object \n",
            " 1   District          345407 non-null  object \n",
            " 2   Crop              345375 non-null  object \n",
            " 3   Year              345407 non-null  object \n",
            " 4   Season            345406 non-null  object \n",
            " 5   Area              345374 non-null  float64\n",
            " 6   Area Units        345407 non-null  object \n",
            " 7   Production        340414 non-null  float64\n",
            " 8   Production Units  345407 non-null  object \n",
            " 9   Yield             345374 non-null  float64\n",
            "dtypes: float64(3), object(7)\n",
            "memory usage: 26.4+ MB\n"
          ]
        }
      ]
    },
    {
      "cell_type": "code",
      "source": [
        "# Dataset Columns\n",
        "print(df.columns)"
      ],
      "metadata": {
        "colab": {
          "base_uri": "https://localhost:8080/"
        },
        "id": "i9gVCk1RB3-b",
        "outputId": "ebc5822f-8ed4-40bc-edfd-a4e7547c1dbd"
      },
      "execution_count": 12,
      "outputs": [
        {
          "output_type": "stream",
          "name": "stdout",
          "text": [
            "Index(['State', 'District', 'Crop', 'Year', 'Season', 'Area', 'Area Units',\n",
            "       'Production', 'Production Units', 'Yield'],\n",
            "      dtype='object')\n"
          ]
        }
      ]
    },
    {
      "cell_type": "code",
      "source": [
        "# Dataset Describe\n",
        "df.describe(include='all')"
      ],
      "metadata": {
        "colab": {
          "base_uri": "https://localhost:8080/",
          "height": 394
        },
        "id": "7z0ZHSJ7B5jV",
        "outputId": "f635450c-3194-4585-ab8b-87b26b9d9795"
      },
      "execution_count": 13,
      "outputs": [
        {
          "output_type": "execute_result",
          "data": {
            "text/plain": [
              "                State  District    Crop     Year  Season          Area  \\\n",
              "count          345407    345407  345375   345407  345406  3.453740e+05   \n",
              "unique             36       729      56       24       6           NaN   \n",
              "top     Uttar Pradesh  BILASPUR    Rice  2019-20  Kharif           NaN   \n",
              "freq            44781      1244   21611    19296  138400           NaN   \n",
              "mean              NaN       NaN     NaN      NaN     NaN  1.167019e+04   \n",
              "std               NaN       NaN     NaN      NaN     NaN  4.583843e+04   \n",
              "min               NaN       NaN     NaN      NaN     NaN  4.000000e-03   \n",
              "25%               NaN       NaN     NaN      NaN     NaN  7.400000e+01   \n",
              "50%               NaN       NaN     NaN      NaN     NaN  5.320000e+02   \n",
              "75%               NaN       NaN     NaN      NaN     NaN  4.110000e+03   \n",
              "max               NaN       NaN     NaN      NaN     NaN  8.580100e+06   \n",
              "\n",
              "       Area Units    Production Production Units          Yield  \n",
              "count      345407  3.404140e+05           345407  345374.000000  \n",
              "unique          1           NaN                3            NaN  \n",
              "top       Hectare           NaN           Tonnes            NaN  \n",
              "freq       345407           NaN           331686            NaN  \n",
              "mean          NaN  9.583711e+05              NaN      79.407569  \n",
              "std           NaN  2.152986e+07              NaN     916.628744  \n",
              "min           NaN  0.000000e+00              NaN       0.000000  \n",
              "25%           NaN  8.700000e+01              NaN       0.546742  \n",
              "50%           NaN  7.170000e+02              NaN       1.000000  \n",
              "75%           NaN  7.176000e+03              NaN       2.467080  \n",
              "max           NaN  1.597800e+09              NaN   43958.333333  "
            ],
            "text/html": [
              "\n",
              "  <div id=\"df-a44b8cfb-a9f1-4311-9c81-1a3d6c0c39de\" class=\"colab-df-container\">\n",
              "    <div>\n",
              "<style scoped>\n",
              "    .dataframe tbody tr th:only-of-type {\n",
              "        vertical-align: middle;\n",
              "    }\n",
              "\n",
              "    .dataframe tbody tr th {\n",
              "        vertical-align: top;\n",
              "    }\n",
              "\n",
              "    .dataframe thead th {\n",
              "        text-align: right;\n",
              "    }\n",
              "</style>\n",
              "<table border=\"1\" class=\"dataframe\">\n",
              "  <thead>\n",
              "    <tr style=\"text-align: right;\">\n",
              "      <th></th>\n",
              "      <th>State</th>\n",
              "      <th>District</th>\n",
              "      <th>Crop</th>\n",
              "      <th>Year</th>\n",
              "      <th>Season</th>\n",
              "      <th>Area</th>\n",
              "      <th>Area Units</th>\n",
              "      <th>Production</th>\n",
              "      <th>Production Units</th>\n",
              "      <th>Yield</th>\n",
              "    </tr>\n",
              "  </thead>\n",
              "  <tbody>\n",
              "    <tr>\n",
              "      <th>count</th>\n",
              "      <td>345407</td>\n",
              "      <td>345407</td>\n",
              "      <td>345375</td>\n",
              "      <td>345407</td>\n",
              "      <td>345406</td>\n",
              "      <td>3.453740e+05</td>\n",
              "      <td>345407</td>\n",
              "      <td>3.404140e+05</td>\n",
              "      <td>345407</td>\n",
              "      <td>345374.000000</td>\n",
              "    </tr>\n",
              "    <tr>\n",
              "      <th>unique</th>\n",
              "      <td>36</td>\n",
              "      <td>729</td>\n",
              "      <td>56</td>\n",
              "      <td>24</td>\n",
              "      <td>6</td>\n",
              "      <td>NaN</td>\n",
              "      <td>1</td>\n",
              "      <td>NaN</td>\n",
              "      <td>3</td>\n",
              "      <td>NaN</td>\n",
              "    </tr>\n",
              "    <tr>\n",
              "      <th>top</th>\n",
              "      <td>Uttar Pradesh</td>\n",
              "      <td>BILASPUR</td>\n",
              "      <td>Rice</td>\n",
              "      <td>2019-20</td>\n",
              "      <td>Kharif</td>\n",
              "      <td>NaN</td>\n",
              "      <td>Hectare</td>\n",
              "      <td>NaN</td>\n",
              "      <td>Tonnes</td>\n",
              "      <td>NaN</td>\n",
              "    </tr>\n",
              "    <tr>\n",
              "      <th>freq</th>\n",
              "      <td>44781</td>\n",
              "      <td>1244</td>\n",
              "      <td>21611</td>\n",
              "      <td>19296</td>\n",
              "      <td>138400</td>\n",
              "      <td>NaN</td>\n",
              "      <td>345407</td>\n",
              "      <td>NaN</td>\n",
              "      <td>331686</td>\n",
              "      <td>NaN</td>\n",
              "    </tr>\n",
              "    <tr>\n",
              "      <th>mean</th>\n",
              "      <td>NaN</td>\n",
              "      <td>NaN</td>\n",
              "      <td>NaN</td>\n",
              "      <td>NaN</td>\n",
              "      <td>NaN</td>\n",
              "      <td>1.167019e+04</td>\n",
              "      <td>NaN</td>\n",
              "      <td>9.583711e+05</td>\n",
              "      <td>NaN</td>\n",
              "      <td>79.407569</td>\n",
              "    </tr>\n",
              "    <tr>\n",
              "      <th>std</th>\n",
              "      <td>NaN</td>\n",
              "      <td>NaN</td>\n",
              "      <td>NaN</td>\n",
              "      <td>NaN</td>\n",
              "      <td>NaN</td>\n",
              "      <td>4.583843e+04</td>\n",
              "      <td>NaN</td>\n",
              "      <td>2.152986e+07</td>\n",
              "      <td>NaN</td>\n",
              "      <td>916.628744</td>\n",
              "    </tr>\n",
              "    <tr>\n",
              "      <th>min</th>\n",
              "      <td>NaN</td>\n",
              "      <td>NaN</td>\n",
              "      <td>NaN</td>\n",
              "      <td>NaN</td>\n",
              "      <td>NaN</td>\n",
              "      <td>4.000000e-03</td>\n",
              "      <td>NaN</td>\n",
              "      <td>0.000000e+00</td>\n",
              "      <td>NaN</td>\n",
              "      <td>0.000000</td>\n",
              "    </tr>\n",
              "    <tr>\n",
              "      <th>25%</th>\n",
              "      <td>NaN</td>\n",
              "      <td>NaN</td>\n",
              "      <td>NaN</td>\n",
              "      <td>NaN</td>\n",
              "      <td>NaN</td>\n",
              "      <td>7.400000e+01</td>\n",
              "      <td>NaN</td>\n",
              "      <td>8.700000e+01</td>\n",
              "      <td>NaN</td>\n",
              "      <td>0.546742</td>\n",
              "    </tr>\n",
              "    <tr>\n",
              "      <th>50%</th>\n",
              "      <td>NaN</td>\n",
              "      <td>NaN</td>\n",
              "      <td>NaN</td>\n",
              "      <td>NaN</td>\n",
              "      <td>NaN</td>\n",
              "      <td>5.320000e+02</td>\n",
              "      <td>NaN</td>\n",
              "      <td>7.170000e+02</td>\n",
              "      <td>NaN</td>\n",
              "      <td>1.000000</td>\n",
              "    </tr>\n",
              "    <tr>\n",
              "      <th>75%</th>\n",
              "      <td>NaN</td>\n",
              "      <td>NaN</td>\n",
              "      <td>NaN</td>\n",
              "      <td>NaN</td>\n",
              "      <td>NaN</td>\n",
              "      <td>4.110000e+03</td>\n",
              "      <td>NaN</td>\n",
              "      <td>7.176000e+03</td>\n",
              "      <td>NaN</td>\n",
              "      <td>2.467080</td>\n",
              "    </tr>\n",
              "    <tr>\n",
              "      <th>max</th>\n",
              "      <td>NaN</td>\n",
              "      <td>NaN</td>\n",
              "      <td>NaN</td>\n",
              "      <td>NaN</td>\n",
              "      <td>NaN</td>\n",
              "      <td>8.580100e+06</td>\n",
              "      <td>NaN</td>\n",
              "      <td>1.597800e+09</td>\n",
              "      <td>NaN</td>\n",
              "      <td>43958.333333</td>\n",
              "    </tr>\n",
              "  </tbody>\n",
              "</table>\n",
              "</div>\n",
              "    <div class=\"colab-df-buttons\">\n",
              "\n",
              "  <div class=\"colab-df-container\">\n",
              "    <button class=\"colab-df-convert\" onclick=\"convertToInteractive('df-a44b8cfb-a9f1-4311-9c81-1a3d6c0c39de')\"\n",
              "            title=\"Convert this dataframe to an interactive table.\"\n",
              "            style=\"display:none;\">\n",
              "\n",
              "  <svg xmlns=\"http://www.w3.org/2000/svg\" height=\"24px\" viewBox=\"0 -960 960 960\">\n",
              "    <path d=\"M120-120v-720h720v720H120Zm60-500h600v-160H180v160Zm220 220h160v-160H400v160Zm0 220h160v-160H400v160ZM180-400h160v-160H180v160Zm440 0h160v-160H620v160ZM180-180h160v-160H180v160Zm440 0h160v-160H620v160Z\"/>\n",
              "  </svg>\n",
              "    </button>\n",
              "\n",
              "  <style>\n",
              "    .colab-df-container {\n",
              "      display:flex;\n",
              "      gap: 12px;\n",
              "    }\n",
              "\n",
              "    .colab-df-convert {\n",
              "      background-color: #E8F0FE;\n",
              "      border: none;\n",
              "      border-radius: 50%;\n",
              "      cursor: pointer;\n",
              "      display: none;\n",
              "      fill: #1967D2;\n",
              "      height: 32px;\n",
              "      padding: 0 0 0 0;\n",
              "      width: 32px;\n",
              "    }\n",
              "\n",
              "    .colab-df-convert:hover {\n",
              "      background-color: #E2EBFA;\n",
              "      box-shadow: 0px 1px 2px rgba(60, 64, 67, 0.3), 0px 1px 3px 1px rgba(60, 64, 67, 0.15);\n",
              "      fill: #174EA6;\n",
              "    }\n",
              "\n",
              "    .colab-df-buttons div {\n",
              "      margin-bottom: 4px;\n",
              "    }\n",
              "\n",
              "    [theme=dark] .colab-df-convert {\n",
              "      background-color: #3B4455;\n",
              "      fill: #D2E3FC;\n",
              "    }\n",
              "\n",
              "    [theme=dark] .colab-df-convert:hover {\n",
              "      background-color: #434B5C;\n",
              "      box-shadow: 0px 1px 3px 1px rgba(0, 0, 0, 0.15);\n",
              "      filter: drop-shadow(0px 1px 2px rgba(0, 0, 0, 0.3));\n",
              "      fill: #FFFFFF;\n",
              "    }\n",
              "  </style>\n",
              "\n",
              "    <script>\n",
              "      const buttonEl =\n",
              "        document.querySelector('#df-a44b8cfb-a9f1-4311-9c81-1a3d6c0c39de button.colab-df-convert');\n",
              "      buttonEl.style.display =\n",
              "        google.colab.kernel.accessAllowed ? 'block' : 'none';\n",
              "\n",
              "      async function convertToInteractive(key) {\n",
              "        const element = document.querySelector('#df-a44b8cfb-a9f1-4311-9c81-1a3d6c0c39de');\n",
              "        const dataTable =\n",
              "          await google.colab.kernel.invokeFunction('convertToInteractive',\n",
              "                                                    [key], {});\n",
              "        if (!dataTable) return;\n",
              "\n",
              "        const docLinkHtml = 'Like what you see? Visit the ' +\n",
              "          '<a target=\"_blank\" href=https://colab.research.google.com/notebooks/data_table.ipynb>data table notebook</a>'\n",
              "          + ' to learn more about interactive tables.';\n",
              "        element.innerHTML = '';\n",
              "        dataTable['output_type'] = 'display_data';\n",
              "        await google.colab.output.renderOutput(dataTable, element);\n",
              "        const docLink = document.createElement('div');\n",
              "        docLink.innerHTML = docLinkHtml;\n",
              "        element.appendChild(docLink);\n",
              "      }\n",
              "    </script>\n",
              "  </div>\n",
              "\n",
              "\n",
              "    <div id=\"df-27e60d2b-36c5-49f1-9f8a-0ec0d846654d\">\n",
              "      <button class=\"colab-df-quickchart\" onclick=\"quickchart('df-27e60d2b-36c5-49f1-9f8a-0ec0d846654d')\"\n",
              "                title=\"Suggest charts\"\n",
              "                style=\"display:none;\">\n",
              "\n",
              "<svg xmlns=\"http://www.w3.org/2000/svg\" height=\"24px\"viewBox=\"0 0 24 24\"\n",
              "     width=\"24px\">\n",
              "    <g>\n",
              "        <path d=\"M19 3H5c-1.1 0-2 .9-2 2v14c0 1.1.9 2 2 2h14c1.1 0 2-.9 2-2V5c0-1.1-.9-2-2-2zM9 17H7v-7h2v7zm4 0h-2V7h2v10zm4 0h-2v-4h2v4z\"/>\n",
              "    </g>\n",
              "</svg>\n",
              "      </button>\n",
              "\n",
              "<style>\n",
              "  .colab-df-quickchart {\n",
              "      --bg-color: #E8F0FE;\n",
              "      --fill-color: #1967D2;\n",
              "      --hover-bg-color: #E2EBFA;\n",
              "      --hover-fill-color: #174EA6;\n",
              "      --disabled-fill-color: #AAA;\n",
              "      --disabled-bg-color: #DDD;\n",
              "  }\n",
              "\n",
              "  [theme=dark] .colab-df-quickchart {\n",
              "      --bg-color: #3B4455;\n",
              "      --fill-color: #D2E3FC;\n",
              "      --hover-bg-color: #434B5C;\n",
              "      --hover-fill-color: #FFFFFF;\n",
              "      --disabled-bg-color: #3B4455;\n",
              "      --disabled-fill-color: #666;\n",
              "  }\n",
              "\n",
              "  .colab-df-quickchart {\n",
              "    background-color: var(--bg-color);\n",
              "    border: none;\n",
              "    border-radius: 50%;\n",
              "    cursor: pointer;\n",
              "    display: none;\n",
              "    fill: var(--fill-color);\n",
              "    height: 32px;\n",
              "    padding: 0;\n",
              "    width: 32px;\n",
              "  }\n",
              "\n",
              "  .colab-df-quickchart:hover {\n",
              "    background-color: var(--hover-bg-color);\n",
              "    box-shadow: 0 1px 2px rgba(60, 64, 67, 0.3), 0 1px 3px 1px rgba(60, 64, 67, 0.15);\n",
              "    fill: var(--button-hover-fill-color);\n",
              "  }\n",
              "\n",
              "  .colab-df-quickchart-complete:disabled,\n",
              "  .colab-df-quickchart-complete:disabled:hover {\n",
              "    background-color: var(--disabled-bg-color);\n",
              "    fill: var(--disabled-fill-color);\n",
              "    box-shadow: none;\n",
              "  }\n",
              "\n",
              "  .colab-df-spinner {\n",
              "    border: 2px solid var(--fill-color);\n",
              "    border-color: transparent;\n",
              "    border-bottom-color: var(--fill-color);\n",
              "    animation:\n",
              "      spin 1s steps(1) infinite;\n",
              "  }\n",
              "\n",
              "  @keyframes spin {\n",
              "    0% {\n",
              "      border-color: transparent;\n",
              "      border-bottom-color: var(--fill-color);\n",
              "      border-left-color: var(--fill-color);\n",
              "    }\n",
              "    20% {\n",
              "      border-color: transparent;\n",
              "      border-left-color: var(--fill-color);\n",
              "      border-top-color: var(--fill-color);\n",
              "    }\n",
              "    30% {\n",
              "      border-color: transparent;\n",
              "      border-left-color: var(--fill-color);\n",
              "      border-top-color: var(--fill-color);\n",
              "      border-right-color: var(--fill-color);\n",
              "    }\n",
              "    40% {\n",
              "      border-color: transparent;\n",
              "      border-right-color: var(--fill-color);\n",
              "      border-top-color: var(--fill-color);\n",
              "    }\n",
              "    60% {\n",
              "      border-color: transparent;\n",
              "      border-right-color: var(--fill-color);\n",
              "    }\n",
              "    80% {\n",
              "      border-color: transparent;\n",
              "      border-right-color: var(--fill-color);\n",
              "      border-bottom-color: var(--fill-color);\n",
              "    }\n",
              "    90% {\n",
              "      border-color: transparent;\n",
              "      border-bottom-color: var(--fill-color);\n",
              "    }\n",
              "  }\n",
              "</style>\n",
              "\n",
              "      <script>\n",
              "        async function quickchart(key) {\n",
              "          const quickchartButtonEl =\n",
              "            document.querySelector('#' + key + ' button');\n",
              "          quickchartButtonEl.disabled = true;  // To prevent multiple clicks.\n",
              "          quickchartButtonEl.classList.add('colab-df-spinner');\n",
              "          try {\n",
              "            const charts = await google.colab.kernel.invokeFunction(\n",
              "                'suggestCharts', [key], {});\n",
              "          } catch (error) {\n",
              "            console.error('Error during call to suggestCharts:', error);\n",
              "          }\n",
              "          quickchartButtonEl.classList.remove('colab-df-spinner');\n",
              "          quickchartButtonEl.classList.add('colab-df-quickchart-complete');\n",
              "        }\n",
              "        (() => {\n",
              "          let quickchartButtonEl =\n",
              "            document.querySelector('#df-27e60d2b-36c5-49f1-9f8a-0ec0d846654d button');\n",
              "          quickchartButtonEl.style.display =\n",
              "            google.colab.kernel.accessAllowed ? 'block' : 'none';\n",
              "        })();\n",
              "      </script>\n",
              "    </div>\n",
              "\n",
              "    </div>\n",
              "  </div>\n"
            ],
            "application/vnd.google.colaboratory.intrinsic+json": {
              "type": "dataframe",
              "summary": "{\n  \"name\": \"df\",\n  \"rows\": 11,\n  \"fields\": [\n    {\n      \"column\": \"State\",\n      \"properties\": {\n        \"dtype\": \"category\",\n        \"num_unique_values\": 4,\n        \"samples\": [\n          36,\n          \"44781\",\n          \"345407\"\n        ],\n        \"semantic_type\": \"\",\n        \"description\": \"\"\n      }\n    },\n    {\n      \"column\": \"District\",\n      \"properties\": {\n        \"dtype\": \"category\",\n        \"num_unique_values\": 4,\n        \"samples\": [\n          729,\n          \"1244\",\n          \"345407\"\n        ],\n        \"semantic_type\": \"\",\n        \"description\": \"\"\n      }\n    },\n    {\n      \"column\": \"Crop\",\n      \"properties\": {\n        \"dtype\": \"category\",\n        \"num_unique_values\": 4,\n        \"samples\": [\n          56,\n          \"21611\",\n          \"345375\"\n        ],\n        \"semantic_type\": \"\",\n        \"description\": \"\"\n      }\n    },\n    {\n      \"column\": \"Year\",\n      \"properties\": {\n        \"dtype\": \"category\",\n        \"num_unique_values\": 4,\n        \"samples\": [\n          24,\n          \"19296\",\n          \"345407\"\n        ],\n        \"semantic_type\": \"\",\n        \"description\": \"\"\n      }\n    },\n    {\n      \"column\": \"Season\",\n      \"properties\": {\n        \"dtype\": \"category\",\n        \"num_unique_values\": 4,\n        \"samples\": [\n          6,\n          \"138400\",\n          \"345406\"\n        ],\n        \"semantic_type\": \"\",\n        \"description\": \"\"\n      }\n    },\n    {\n      \"column\": \"Area\",\n      \"properties\": {\n        \"dtype\": \"number\",\n        \"std\": 3015254.3823139216,\n        \"min\": 0.004,\n        \"max\": 8580100.0,\n        \"num_unique_values\": 8,\n        \"samples\": [\n          11670.191258244684,\n          532.0,\n          345374.0\n        ],\n        \"semantic_type\": \"\",\n        \"description\": \"\"\n      }\n    },\n    {\n      \"column\": \"Area Units\",\n      \"properties\": {\n        \"dtype\": \"category\",\n        \"num_unique_values\": 3,\n        \"samples\": [\n          \"345407\",\n          1,\n          \"Hectare\"\n        ],\n        \"semantic_type\": \"\",\n        \"description\": \"\"\n      }\n    },\n    {\n      \"column\": \"Production\",\n      \"properties\": {\n        \"dtype\": \"number\",\n        \"std\": 563803604.0036345,\n        \"min\": 0.0,\n        \"max\": 1597800000.0,\n        \"num_unique_values\": 8,\n        \"samples\": [\n          958371.1486639765,\n          717.0,\n          340414.0\n        ],\n        \"semantic_type\": \"\",\n        \"description\": \"\"\n      }\n    },\n    {\n      \"column\": \"Production Units\",\n      \"properties\": {\n        \"dtype\": \"category\",\n        \"num_unique_values\": 4,\n        \"samples\": [\n          3,\n          \"331686\",\n          \"345407\"\n        ],\n        \"semantic_type\": \"\",\n        \"description\": \"\"\n      }\n    },\n    {\n      \"column\": \"Yield\",\n      \"properties\": {\n        \"dtype\": \"number\",\n        \"std\": 120813.58737955133,\n        \"min\": 0.0,\n        \"max\": 345374.0,\n        \"num_unique_values\": 8,\n        \"samples\": [\n          79.40756931424343,\n          1.0,\n          345374.0\n        ],\n        \"semantic_type\": \"\",\n        \"description\": \"\"\n      }\n    }\n  ]\n}"
            }
          },
          "metadata": {},
          "execution_count": 13
        }
      ]
    },
    {
      "cell_type": "code",
      "source": [
        "# Check Unique Values for each variable\n",
        "print(\"unique values in dataset:\\n\",df.nunique())"
      ],
      "metadata": {
        "colab": {
          "base_uri": "https://localhost:8080/"
        },
        "id": "QSV3Bv7mB8Mu",
        "outputId": "ed337bf6-b8df-4896-9f62-9dc37bbbeba2"
      },
      "execution_count": 14,
      "outputs": [
        {
          "output_type": "stream",
          "name": "stdout",
          "text": [
            "unique values in dataset:\n",
            " State                   36\n",
            "District               729\n",
            "Crop                    56\n",
            "Year                    24\n",
            "Season                   6\n",
            "Area                 48006\n",
            "Area Units               1\n",
            "Production           69078\n",
            "Production Units         3\n",
            "Yield               197154\n",
            "dtype: int64\n"
          ]
        }
      ]
    },
    {
      "cell_type": "code",
      "source": [
        "# Dataset Duplicate Value Count\n",
        "print(\"Duplicate Values in Indian Agriculture dataset : \",df.duplicated().sum())"
      ],
      "metadata": {
        "colab": {
          "base_uri": "https://localhost:8080/"
        },
        "id": "zjjiKsf693mp",
        "outputId": "616ad8ae-7390-47bc-b3a0-9a94d92366b6"
      },
      "execution_count": 15,
      "outputs": [
        {
          "output_type": "stream",
          "name": "stdout",
          "text": [
            "Duplicate Values in Indian Agriculture dataset :  0\n"
          ]
        }
      ]
    },
    {
      "cell_type": "code",
      "source": [
        "# Missing Values/Null Values Count\n",
        "print(df.isnull().sum())"
      ],
      "metadata": {
        "colab": {
          "base_uri": "https://localhost:8080/"
        },
        "id": "4aMrH3-A97dL",
        "outputId": "d2867fc9-5c34-4113-943a-cf2e81d5f680"
      },
      "execution_count": 16,
      "outputs": [
        {
          "output_type": "stream",
          "name": "stdout",
          "text": [
            "State                  0\n",
            "District               0\n",
            "Crop                  32\n",
            "Year                   0\n",
            "Season                 1\n",
            "Area                  33\n",
            "Area Units             0\n",
            "Production          4993\n",
            "Production Units       0\n",
            "Yield                 33\n",
            "dtype: int64\n"
          ]
        }
      ]
    },
    {
      "cell_type": "markdown",
      "source": [
        "Visualize missing data"
      ],
      "metadata": {
        "id": "bHTdPM1l-D8S"
      }
    },
    {
      "cell_type": "code",
      "source": [
        "import seaborn as sns\n",
        "import matplotlib.pyplot as plt\n",
        "\n",
        "sns.heatmap(df.isnull(), cbar=False, cmap=\"viridis\")\n",
        "plt.title(\"Missing Values Heatmap\")\n",
        "plt.show()"
      ],
      "metadata": {
        "colab": {
          "base_uri": "https://localhost:8080/",
          "height": 552
        },
        "id": "VIUDubUE91JH",
        "outputId": "7600672d-7bbf-453f-e7ad-211ed9d0b244"
      },
      "execution_count": 17,
      "outputs": [
        {
          "output_type": "display_data",
          "data": {
            "text/plain": [
              "<Figure size 640x480 with 1 Axes>"
            ],
            "image/png": "[encoded data removed]"
          },
          "metadata": {}
        }
      ]
    },
    {
      "cell_type": "markdown",
      "source": [
        "###Exploratory Data Analysis (EDA)###"
      ],
      "metadata": {
        "id": "1D1Pv0RcFFG8"
      }
    },
    {
      "cell_type": "code",
      "source": [
        "#drop missing values\n",
        "df.dropna(inplace=True)"
      ],
      "metadata": {
        "id": "PY9kYCs5HEQK"
      },
      "execution_count": 18,
      "outputs": []
    },
    {
      "cell_type": "code",
      "source": [
        "df.isnull().sum()"
      ],
      "metadata": {
        "colab": {
          "base_uri": "https://localhost:8080/",
          "height": 397
        },
        "id": "UQveilqrHG_H",
        "outputId": "2cece74b-c642-4509-960d-861e80b08fcf"
      },
      "execution_count": 19,
      "outputs": [
        {
          "output_type": "execute_result",
          "data": {
            "text/plain": [
              "State               0\n",
              "District            0\n",
              "Crop                0\n",
              "Year                0\n",
              "Season              0\n",
              "Area                0\n",
              "Area Units          0\n",
              "Production          0\n",
              "Production Units    0\n",
              "Yield               0\n",
              "dtype: int64"
            ],
            "text/html": [
              "<div>\n",
              "<style scoped>\n",
              "    .dataframe tbody tr th:only-of-type {\n",
              "        vertical-align: middle;\n",
              "    }\n",
              "\n",
              "    .dataframe tbody tr th {\n",
              "        vertical-align: top;\n",
              "    }\n",
              "\n",
              "    .dataframe thead th {\n",
              "        text-align: right;\n",
              "    }\n",
              "</style>\n",
              "<table border=\"1\" class=\"dataframe\">\n",
              "  <thead>\n",
              "    <tr style=\"text-align: right;\">\n",
              "      <th></th>\n",
              "      <th>0</th>\n",
              "    </tr>\n",
              "  </thead>\n",
              "  <tbody>\n",
              "    <tr>\n",
              "      <th>State</th>\n",
              "      <td>0</td>\n",
              "    </tr>\n",
              "    <tr>\n",
              "      <th>District</th>\n",
              "      <td>0</td>\n",
              "    </tr>\n",
              "    <tr>\n",
              "      <th>Crop</th>\n",
              "      <td>0</td>\n",
              "    </tr>\n",
              "    <tr>\n",
              "      <th>Year</th>\n",
              "      <td>0</td>\n",
              "    </tr>\n",
              "    <tr>\n",
              "      <th>Season</th>\n",
              "      <td>0</td>\n",
              "    </tr>\n",
              "    <tr>\n",
              "      <th>Area</th>\n",
              "      <td>0</td>\n",
              "    </tr>\n",
              "    <tr>\n",
              "      <th>Area Units</th>\n",
              "      <td>0</td>\n",
              "    </tr>\n",
              "    <tr>\n",
              "      <th>Production</th>\n",
              "      <td>0</td>\n",
              "    </tr>\n",
              "    <tr>\n",
              "      <th>Production Units</th>\n",
              "      <td>0</td>\n",
              "    </tr>\n",
              "    <tr>\n",
              "      <th>Yield</th>\n",
              "      <td>0</td>\n",
              "    </tr>\n",
              "  </tbody>\n",
              "</table>\n",
              "</div><br><label><b>dtype:</b> int64</label>"
            ]
          },
          "metadata": {},
          "execution_count": 19
        }
      ]
    },
    {
      "cell_type": "markdown",
      "source": [
        "Check the target variable: Yield"
      ],
      "metadata": {
        "id": "f-8yuyXTFJyG"
      }
    },
    {
      "cell_type": "code",
      "source": [
        "# 1. Distribution of Yield (Target)\n",
        "import matplotlib.pyplot as plt\n",
        "import seaborn as sns\n",
        "\n",
        "plt.figure(figsize=(8, 5))\n",
        "sns.histplot(df['Yield'], kde=True, bins=50)\n",
        "plt.title(\"Distribution of Yield\")\n",
        "plt.xlabel(\"Yield\")\n",
        "plt.ylabel(\"Frequency\")\n",
        "plt.show()"
      ],
      "metadata": {
        "colab": {
          "base_uri": "https://localhost:8080/",
          "height": 487
        },
        "id": "aY63Cq15LovU",
        "outputId": "3fdeada5-89f9-4eff-d845-4407a1a3b9ab"
      },
      "execution_count": 20,
      "outputs": [
        {
          "output_type": "display_data",
          "data": {
            "text/plain": [
              "<Figure size 800x500 with 1 Axes>"
            ],
            "image/png": "[encoded data removed]"
          },
          "metadata": {}
        }
      ]
    },
    {
      "cell_type": "markdown",
      "source": [
        "Yield seems heavily right-skewed.\n",
        "\n",
        "Most values are concentrated at the lower end (very small yield), but a few extreme values (outliers) go as high as 40,000+.\n",
        "\n",
        "You may need to consider log transformation later to reduce skewness and stabilize variance."
      ],
      "metadata": {
        "id": "feMKTcK5_G1s"
      }
    },
    {
      "cell_type": "markdown",
      "source": [
        "Boxplot"
      ],
      "metadata": {
        "id": "u4hb4mSY_4Uo"
      }
    },
    {
      "cell_type": "code",
      "source": [
        "import matplotlib.pyplot as plt\n",
        "import seaborn as sns\n",
        "\n",
        "plt.figure(figsize=(8, 5))\n",
        "sns.boxplot(y=df['Yield'])\n",
        "plt.title(\"Box Plot of Yield\")\n",
        "plt.ylabel(\"Yield\")\n",
        "plt.grid(True)\n",
        "plt.show()"
      ],
      "metadata": {
        "colab": {
          "base_uri": "https://localhost:8080/",
          "height": 449
        },
        "id": "BsVdfKiN_4D3",
        "outputId": "8b0fa646-77ac-4177-d9c5-37da48c38e2f"
      },
      "execution_count": 21,
      "outputs": [
        {
          "output_type": "display_data",
          "data": {
            "text/plain": [
              "<Figure size 800x500 with 1 Axes>"
            ],
            "image/png": "[encoded data removed]"
          },
          "metadata": {}
        }
      ]
    },
    {
      "cell_type": "markdown",
      "source": [
        "Check correlations among numeric variables"
      ],
      "metadata": {
        "id": "UFMw8TG1-s5N"
      }
    },
    {
      "cell_type": "code",
      "source": [
        "# Extract numeric start year\n",
        "df['Numeric_Year'] = df['Year'].str[:4].astype(int)\n",
        "\n",
        "# Now drop original Year for correlation check\n",
        "df_corr = df.drop(columns=['Year'])\n",
        "\n",
        "# Correlation heatmap with new numeric year\n",
        "import seaborn as sns\n",
        "import matplotlib.pyplot as plt\n",
        "\n",
        "plt.figure(figsize=(10, 6))\n",
        "sns.heatmap(df_corr.corr(numeric_only=True), annot=True, cmap=\"coolwarm\", fmt=\".2f\")\n",
        "plt.title(\"Updated Correlation Matrix with Numeric Year\")\n",
        "plt.show()"
      ],
      "metadata": {
        "colab": {
          "base_uri": "https://localhost:8080/",
          "height": 545
        },
        "id": "wJB9XkADD00g",
        "outputId": "9be3b298-9c9d-4ecb-fa33-b613dcf3631a"
      },
      "execution_count": 22,
      "outputs": [
        {
          "output_type": "display_data",
          "data": {
            "text/plain": [
              "<Figure size 1000x600 with 2 Axes>"
            ],
            "image/png": "[encoded data removed]"
          },
          "metadata": {}
        }
      ]
    },
    {
      "cell_type": "markdown",
      "source": [
        "Production has a moderate correlation with Yield (~0.44) — that makes sense.\n",
        "\n",
        "Area has almost zero correlation with Yield, and surprisingly also very low with Production.\n",
        "\n",
        "This suggests Area might not be a strong linear predictor in this dataset, or may need transformation or interaction terms to be meaningful."
      ],
      "metadata": {
        "id": "J0EN1Td7_hR3"
      }
    },
    {
      "cell_type": "markdown",
      "source": [
        "Relationship between Area and Yield"
      ],
      "metadata": {
        "id": "Zh76qbjA-xS7"
      }
    },
    {
      "cell_type": "code",
      "source": [
        "sns.scatterplot(data=df, x='Area', y='Yield')\n",
        "plt.title(\"Area vs Yield\")\n",
        "plt.show()"
      ],
      "metadata": {
        "id": "eSv69j73H1fA",
        "colab": {
          "base_uri": "https://localhost:8080/",
          "height": 472
        },
        "outputId": "3d02d67f-0dc7-4fb2-da52-fff16da47aff"
      },
      "execution_count": 23,
      "outputs": [
        {
          "output_type": "display_data",
          "data": {
            "text/plain": [
              "<Figure size 640x480 with 1 Axes>"
            ],
            "image/png": "[encoded data removed]"
          },
          "metadata": {}
        }
      ]
    },
    {
      "cell_type": "markdown",
      "source": [
        "There’s no clear linear relationship.\n",
        "\n",
        "Some data shows extremely large Area with almost zero yield — suspicious entries, possibly errors or fallow land."
      ],
      "metadata": {
        "id": "jftj7ehe_NW4"
      }
    },
    {
      "cell_type": "markdown",
      "source": [
        "Yield distribution by Crop"
      ],
      "metadata": {
        "id": "uVYenNfFAIMW"
      }
    },
    {
      "cell_type": "code",
      "source": [
        "plt.figure(figsize=(12, 6))\n",
        "sns.boxplot(data=df, x='Crop', y='Yield')\n",
        "plt.xticks(rotation=90)\n",
        "plt.title(\"Yield Distribution by Crop\")\n",
        "plt.show()"
      ],
      "metadata": {
        "colab": {
          "base_uri": "https://localhost:8080/",
          "height": 702
        },
        "id": "gXWpWk2eAImW",
        "outputId": "48252593-d48a-48a0-88ae-30a5edc66018"
      },
      "execution_count": 24,
      "outputs": [
        {
          "output_type": "display_data",
          "data": {
            "text/plain": [
              "<Figure size 1200x600 with 1 Axes>"
            ],
            "image/png": "[encoded data removed]"
          },
          "metadata": {}
        }
      ]
    },
    {
      "cell_type": "code",
      "source": [
        "df.groupby('Crop')['Yield'].mean().sort_values(ascending=False).head(10).plot(kind='barh')\n",
        "plt.title(\"Top 10 Crops by Average Yield\")\n",
        "plt.xlabel(\"Average Yield\")\n",
        "plt.show()"
      ],
      "metadata": {
        "colab": {
          "base_uri": "https://localhost:8080/",
          "height": 472
        },
        "id": "DyyIFfoFBUdd",
        "outputId": "1fe595e4-0925-4479-81d5-0c161718defb"
      },
      "execution_count": 25,
      "outputs": [
        {
          "output_type": "display_data",
          "data": {
            "text/plain": [
              "<Figure size 640x480 with 1 Axes>"
            ],
            "image/png": "[encoded data removed]"
          },
          "metadata": {}
        }
      ]
    },
    {
      "cell_type": "markdown",
      "source": [
        "Coconut and Sugarcane have extraordinarily high yields — this makes sense biologically but will distort the model if not handled carefully."
      ],
      "metadata": {
        "id": "HBZOnPjKBVy-"
      }
    },
    {
      "cell_type": "markdown",
      "source": [
        "Seasonal trends"
      ],
      "metadata": {
        "id": "MaxiHJAgATbH"
      }
    },
    {
      "cell_type": "code",
      "source": [
        "plt.figure(figsize=(10, 5))\n",
        "sns.boxplot(data=df, x='Season', y='Yield')\n",
        "plt.title(\"Yield Variation Across Seasons\")\n",
        "plt.show()"
      ],
      "metadata": {
        "colab": {
          "base_uri": "https://localhost:8080/",
          "height": 487
        },
        "id": "v1VLpRAWATyW",
        "outputId": "a61bcc8a-e86d-4dfc-9c4a-5f88e2b54f50"
      },
      "execution_count": 26,
      "outputs": [
        {
          "output_type": "display_data",
          "data": {
            "text/plain": [
              "<Figure size 1000x500 with 1 Axes>"
            ],
            "image/png": "[encoded data removed]"
          },
          "metadata": {}
        }
      ]
    },
    {
      "cell_type": "markdown",
      "source": [
        "The \"Whole Year\" season dominates — again because of long-cycle crops like coconut, sugarcane.\n",
        "\n",
        "Seasonal cropping (Kharif, Rabi) has more compact yield values."
      ],
      "metadata": {
        "id": "0cXzzyDXBaMV"
      }
    },
    {
      "cell_type": "markdown",
      "source": [
        "Year-wise trend in average yield (to see if productivity is improving)"
      ],
      "metadata": {
        "id": "utsFkg_TAXsD"
      }
    },
    {
      "cell_type": "code",
      "source": [
        "df['Year'] = df['Year'].astype(str)\n",
        "\n",
        "df.groupby('Year')['Yield'].mean().plot(marker='o', figsize=(10,5))\n",
        "plt.title(\"Average Yield Over the Years\")\n",
        "plt.xlabel(\"Year\")\n",
        "plt.ylabel(\"Yield\")\n",
        "plt.grid(True)\n",
        "plt.show()"
      ],
      "metadata": {
        "colab": {
          "base_uri": "https://localhost:8080/",
          "height": 487
        },
        "id": "m_6mQOKcAYy5",
        "outputId": "bef2a655-44ff-43fb-d9f2-f7dca76d007c"
      },
      "execution_count": 27,
      "outputs": [
        {
          "output_type": "display_data",
          "data": {
            "text/plain": [
              "<Figure size 1000x500 with 1 Axes>"
            ],
            "image/png": "[encoded data removed]"
          },
          "metadata": {}
        }
      ]
    },
    {
      "cell_type": "markdown",
      "source": [
        "Average yield improved steadily till around 2016–17 and then dropped sharply — possible missing or incorrect data in the last year"
      ],
      "metadata": {
        "id": "wTLlV3OEBiuo"
      }
    },
    {
      "cell_type": "markdown",
      "source": [
        "Top-performing States"
      ],
      "metadata": {
        "id": "mUELNmMGAbVV"
      }
    },
    {
      "cell_type": "code",
      "source": [
        "df.groupby('State')['Yield'].mean().sort_values(ascending=False).head(10).plot(kind='bar')\n",
        "plt.title(\"Top 10 States by Average Yield\")\n",
        "plt.ylabel(\"Average Yield\")\n",
        "plt.show()"
      ],
      "metadata": {
        "colab": {
          "base_uri": "https://localhost:8080/",
          "height": 666
        },
        "id": "446Msbi5Absg",
        "outputId": "fc3519d5-40be-4087-cbb2-ec707d64ba8e"
      },
      "execution_count": 28,
      "outputs": [
        {
          "output_type": "display_data",
          "data": {
            "text/plain": [
              "<Figure size 640x480 with 1 Axes>"
            ],
            "image/png": "[encoded data removed]"
          },
          "metadata": {}
        }
      ]
    },
    {
      "cell_type": "markdown",
      "source": [
        "Puducherry and West Bengal top the average yield — possibly due to smaller area and high-intensity farming."
      ],
      "metadata": {
        "id": "T6Y22qPeBfFX"
      }
    },
    {
      "cell_type": "markdown",
      "source": [
        "Top 5 Most Frequent Values for Each Categorical Column"
      ],
      "metadata": {
        "id": "P7oh5hoNCD5G"
      }
    },
    {
      "cell_type": "code",
      "source": [
        "categorical_cols = ['State', 'District', 'Crop', 'Season', 'Year']\n",
        "\n",
        "for col in categorical_cols:\n",
        "    print(f\"\\nTop 5 values for '{col}':\")\n",
        "    print(df[col].value_counts().head(5))"
      ],
      "metadata": {
        "colab": {
          "base_uri": "https://localhost:8080/"
        },
        "id": "5XwKfYUPCEb9",
        "outputId": "8a319e05-c331-42ba-d979-342b7ee54380"
      },
      "execution_count": 29,
      "outputs": [
        {
          "output_type": "stream",
          "name": "stdout",
          "text": [
            "\n",
            "Top 5 values for 'State':\n",
            "State\n",
            "Uttar Pradesh     44635\n",
            "Madhya Pradesh    29455\n",
            "Karnataka         27322\n",
            "Bihar             24686\n",
            "Rajasthan         19743\n",
            "Name: count, dtype: int64\n",
            "\n",
            "Top 5 values for 'District':\n",
            "District\n",
            "BILASPUR      1214\n",
            "BIJAPUR       1165\n",
            "AURANGABAD    1151\n",
            "DAVANGERE     1142\n",
            "HAVERI        1142\n",
            "Name: count, dtype: int64\n",
            "\n",
            "Top 5 values for 'Crop':\n",
            "Crop\n",
            "Rice                 21573\n",
            "Maize                20329\n",
            "Moong(Green Gram)    14813\n",
            "Urad                 14389\n",
            "Sesamum              12744\n",
            "Name: count, dtype: int64\n",
            "\n",
            "Top 5 values for 'Season':\n",
            "Season\n",
            "Kharif        136165\n",
            "Rabi           99805\n",
            "Whole Year     67265\n",
            "Summer         21974\n",
            "Winter          8238\n",
            "Name: count, dtype: int64\n",
            "\n",
            "Top 5 values for 'Year':\n",
            "Year\n",
            "2019-20    19000\n",
            "2018-19    18047\n",
            "2017-18    17787\n",
            "2016-17    17263\n",
            "2015-16    16222\n",
            "Name: count, dtype: int64\n"
          ]
        }
      ]
    },
    {
      "cell_type": "markdown",
      "source": [
        "Multicollinearity Check using VIF"
      ],
      "metadata": {
        "id": "mD22iC3IELg4"
      }
    },
    {
      "cell_type": "code",
      "source": [
        "from statsmodels.stats.outliers_influence import variance_inflation_factor\n",
        "from statsmodels.tools.tools import add_constant\n",
        "import pandas as pd\n",
        "import numpy as np\n",
        "from sklearn.preprocessing import PowerTransformer\n",
        "\n",
        "\n",
        "# Re-create the necessary columns\n",
        "# Extract four-digit year:\n",
        "df['year'] = df['Year'].astype(str).str.extract(r'(\\d{4})').astype(int)\n",
        "\n",
        "# Center around the mean:\n",
        "year_mean = df['year'].mean()\n",
        "df['year_ctr'] = df['year'] - year_mean\n",
        "\n",
        "# Add a squared term:\n",
        "df['year_sq'] = df['year_ctr'] ** 2\n",
        "\n",
        "# Area skew-correction using Yeo–Johnson power transform:\n",
        "pt = PowerTransformer(method='yeo-johnson')\n",
        "df['area_pt'] = pt.fit_transform(df[['Area']])\n",
        "\n",
        "\n",
        "# 1. Select those for VIF\n",
        "X_vif = df[['year_ctr', 'year_sq', 'area_pt']].dropna()\n",
        "\n",
        "# 2. Add constant term for intercept\n",
        "X_vif_const = add_constant(X_vif)\n",
        "\n",
        "# 3. Compute VIF for each (including intercept)\n",
        "vif_data = pd.DataFrame({\n",
        "    'Feature': X_vif_const.columns,\n",
        "    'VIF': [\n",
        "        variance_inflation_factor(X_vif_const.values, i)\n",
        "        for i in range(X_vif_const.shape[1])\n",
        "    ]\n",
        "})\n",
        "\n",
        "# 4. Print the VIF values\n",
        "print(vif_data)"
      ],
      "metadata": {
        "colab": {
          "base_uri": "https://localhost:8080/"
        },
        "id": "nT6L8iSeEL4p",
        "outputId": "c3df536e-3ac1-4cb9-8352-3c975598db96"
      },
      "execution_count": 30,
      "outputs": [
        {
          "output_type": "stream",
          "name": "stdout",
          "text": [
            "    Feature       VIF\n",
            "0     const  2.264614\n",
            "1  year_ctr  1.024447\n",
            "2   year_sq  1.018450\n",
            "3   area_pt  1.005982\n"
          ]
        }
      ]
    },
    {
      "cell_type": "markdown",
      "source": [
        "add_constant before variance_inflation_factor so that your VIFs reflect true multicollinearity among the regressors rather than artifacts of a no-intercept regression"
      ],
      "metadata": {
        "id": "l9IbNr8hHc12"
      }
    },
    {
      "cell_type": "markdown",
      "source": [
        "All VIF values are well below the common threshold of 5 (or even 2.5). We are safe from multicollinearity, no need to drop or combine independent numerical variables."
      ],
      "metadata": {
        "id": "k8kI2OzSEmd8"
      }
    },
    {
      "cell_type": "markdown",
      "source": [
        "η² (Eta Squared):\n",
        "Eta squared measures the effect size i.e., how much variance in the dependent variable (Yield) is explained by each categorical independent variable.\n",
        "\n",
        "η² values range from 0 to 1:\n",
        "\n",
        "~0.01 = small effect\n",
        "\n",
        "~0.06 = medium effect\n",
        "\n",
        "~0.14+ = large effect"
      ],
      "metadata": {
        "id": "6FVgDrkFGm3b"
      }
    },
    {
      "cell_type": "code",
      "source": [
        "import pandas as pd\n",
        "\n",
        "# 1. Load data and cap yield outliers\n",
        "df['yield_capped'] = df['Yield'].clip(upper=100)\n",
        "\n",
        "# 2. Compute total sum of squares\n",
        "y = df['yield_capped']\n",
        "total_ss = ((y - y.mean())**2).sum()\n",
        "\n",
        "# 3. Calculate η² for each categorical\n",
        "eta2 = {}\n",
        "for col in ['State', 'District', 'Crop', 'Season']:\n",
        "    stats = df.groupby(col)['yield_capped'].agg(count='count', mean='mean')\n",
        "    ss_between = (stats['count'] * (stats['mean'] - y.mean())**2).sum()\n",
        "    eta2[col] = ss_between / total_ss\n",
        "\n",
        "# 4. Display results\n",
        "eta2_series = pd.Series(eta2, name='eta_squared').sort_values(ascending=False)\n",
        "print(eta2_series)"
      ],
      "metadata": {
        "colab": {
          "base_uri": "https://localhost:8080/"
        },
        "id": "YJ7rLvXUGnY1",
        "outputId": "42424872-276b-4716-b861-1e204a691e15"
      },
      "execution_count": 31,
      "outputs": [
        {
          "output_type": "stream",
          "name": "stdout",
          "text": [
            "Crop        0.828170\n",
            "Season      0.155082\n",
            "District    0.033530\n",
            "State       0.028356\n",
            "Name: eta_squared, dtype: float64\n"
          ]
        }
      ]
    },
    {
      "cell_type": "markdown",
      "source": [
        "Crop type is the single most powerful driver of Yield in your dataset.\n",
        "\n",
        "Season, District, and State explain little additional variance, and may be less helpful in simple linear models (or redundant when Crop is included)"
      ],
      "metadata": {
        "id": "Z1BMbYTdHdnF"
      }
    },
    {
      "cell_type": "markdown",
      "source": [
        "##Data Wrangling/Preprocessing"
      ],
      "metadata": {
        "id": "-PR3MOY2E0f4"
      }
    },
    {
      "cell_type": "markdown",
      "source": [
        "Missing / Outlier Handling"
      ],
      "metadata": {
        "id": "wsr2oFpUE97b"
      }
    },
    {
      "cell_type": "code",
      "source": [
        "#drop missing values\n",
        "df.dropna(inplace=True)"
      ],
      "metadata": {
        "id": "irLsb23hE-ZH"
      },
      "execution_count": 32,
      "outputs": []
    },
    {
      "cell_type": "code",
      "source": [
        "print(df.isnull().sum())"
      ],
      "metadata": {
        "colab": {
          "base_uri": "https://localhost:8080/"
        },
        "id": "NLCAyiHDFAuG",
        "outputId": "5d219b39-a5f1-4dbd-8ea4-01974e0ab746"
      },
      "execution_count": 33,
      "outputs": [
        {
          "output_type": "stream",
          "name": "stdout",
          "text": [
            "State               0\n",
            "District            0\n",
            "Crop                0\n",
            "Year                0\n",
            "Season              0\n",
            "Area                0\n",
            "Area Units          0\n",
            "Production          0\n",
            "Production Units    0\n",
            "Yield               0\n",
            "Numeric_Year        0\n",
            "year                0\n",
            "year_ctr            0\n",
            "year_sq             0\n",
            "area_pt             0\n",
            "yield_capped        0\n",
            "dtype: int64\n"
          ]
        }
      ]
    },
    {
      "cell_type": "code",
      "source": [
        "# Dataset Duplicate Value Count\n",
        "print(\"Duplicate Values in Indian Agriculture dataset : \",df.duplicated().sum())"
      ],
      "metadata": {
        "colab": {
          "base_uri": "https://localhost:8080/"
        },
        "id": "BO1lWPc68QN_",
        "outputId": "a7a03c42-43be-4ead-9815-3a6704fc70e3"
      },
      "execution_count": 34,
      "outputs": [
        {
          "output_type": "stream",
          "name": "stdout",
          "text": [
            "Duplicate Values in Indian Agriculture dataset :  0\n"
          ]
        }
      ]
    },
    {
      "cell_type": "markdown",
      "source": [
        "Text Normalization"
      ],
      "metadata": {
        "id": "46g9vxlG8T2Q"
      }
    },
    {
      "cell_type": "code",
      "source": [
        "#text normalisation\n",
        "df['State'] = df['State'].str.strip().str.lower()\n",
        "df['Crop'] = df['Crop'].str.strip().str.lower()\n",
        "df['Season'] = df['Season'].str.strip().str.lower()\n",
        "df['District'] = df['District'].str.strip().str.lower()"
      ],
      "metadata": {
        "id": "rQ00WLhi8RWC"
      },
      "execution_count": 35,
      "outputs": []
    },
    {
      "cell_type": "markdown",
      "source": [
        "Outlier Handling\n",
        "\n",
        "Capped Yield at 100 t/ha (Anything above 100 t/ha is set to 100 t/ha)"
      ],
      "metadata": {
        "id": "aBuDQGtj8XCJ"
      }
    },
    {
      "cell_type": "code",
      "source": [
        "df['yield_capped'] = df['Yield'].clip(upper=100)"
      ],
      "metadata": {
        "id": "In3M_Z0Z8WyW"
      },
      "execution_count": 36,
      "outputs": []
    },
    {
      "cell_type": "markdown",
      "source": [
        "ANOVA F-value encoding of categoricals\n",
        "\n",
        "Mapped each category to its F-score → four new numeric features: state_F, crop_F, season_F, district_F."
      ],
      "metadata": {
        "id": "doIoqMmB8eZ7"
      }
    },
    {
      "cell_type": "code",
      "source": [
        "from sklearn.preprocessing import OneHotEncoder, PowerTransformer\n",
        "from sklearn.feature_selection import f_regression # Import f_regression\n",
        "import pandas as pd\n",
        "import numpy as np\n",
        "\n",
        "\n",
        "# One-hot encode the four categorical columns and compute ANOVA F-values against the capped target\n",
        "ohe = OneHotEncoder(handle_unknown='ignore', sparse_output=False)\n",
        "X_cat = ohe.fit_transform(df[['State','Crop','Season','District']])\n",
        "F_vals, _ = f_regression(X_cat, df['yield_capped'])\n",
        "cats = ohe.categories_\n",
        "\n",
        "# Map the flat array of F-values back to each original category for State, Crop, Season, and District\n",
        "offset = 0\n",
        "state_F    = {c: F_vals[offset + i]     for i, c in enumerate(cats[0])}\n",
        "offset    += len(cats[0])\n",
        "crop_F     = {c: F_vals[offset + i]     for i, c in enumerate(cats[1])}\n",
        "offset    += len(cats[1])\n",
        "season_F   = {c: F_vals[offset + i]     for i, c in enumerate(cats[2])}\n",
        "offset    += len(cats[2])\n",
        "district_F = {c: F_vals[offset + i]     for i, c in enumerate(cats[3])}\n",
        "\n",
        "# Create four new numeric features by mapping each original category to its computed F-value\n",
        "df['state_F']    = df['State'].map(state_F)\n",
        "df['crop_F']     = df['Crop'].map(crop_F)\n",
        "df['season_F']   = df['Season'].map(season_F)\n",
        "df['district_F'] = df['District'].map(district_F)"
      ],
      "metadata": {
        "id": "cFcPLRd18fL8"
      },
      "execution_count": 37,
      "outputs": []
    },
    {
      "cell_type": "markdown",
      "source": [
        "Year polynomial features (captures potential non-linear trends)"
      ],
      "metadata": {
        "id": "uAGBvvcg8rQr"
      }
    },
    {
      "cell_type": "code",
      "source": [
        "#Extract four-digit year:\n",
        "df['year'] = df['Year'].astype(str).str.extract(r'(\\d{4})').astype(int)\n",
        "\n",
        "#Center around the mean:\n",
        "year_mean = df['year'].mean()\n",
        "df['year_ctr'] = df['year'] - year_mean\n",
        "\n",
        "#Add a squared term:\n",
        "df['year_sq'] = df['year_ctr'] ** 2"
      ],
      "metadata": {
        "id": "sZPleMfK8rvS"
      },
      "execution_count": 38,
      "outputs": []
    },
    {
      "cell_type": "markdown",
      "source": [
        "Area skew-correction \\\n",
        "Yeo–Johnson power transform: \\\n",
        "(handles skewness better than log for zero/negative values)"
      ],
      "metadata": {
        "id": "oQZFsqn082ap"
      }
    },
    {
      "cell_type": "code",
      "source": [
        "from sklearn.preprocessing import OneHotEncoder, PowerTransformer\n",
        "pt = PowerTransformer(method='yeo-johnson')\n",
        "df['area_pt'] = pt.fit_transform(df[['Area']])"
      ],
      "metadata": {
        "id": "iXLRTNVC8v15"
      },
      "execution_count": 39,
      "outputs": []
    },
    {
      "cell_type": "markdown",
      "source": [
        "Crop × Season interaction F-value feature"
      ],
      "metadata": {
        "id": "opNTj7ps88Yg"
      }
    },
    {
      "cell_type": "code",
      "source": [
        "df['crop_season'] = df['Crop'] + '_' + df['Season']\n",
        "ohe_cs = OneHotEncoder(handle_unknown='ignore', sparse_output=False)\n",
        "X_cs = ohe_cs.fit_transform(df[['crop_season']])\n",
        "F_cs, _ = f_regression(X_cs, df['yield_capped'])\n",
        "cats_cs = ohe_cs.categories_[0]\n",
        "cs_map = {cat: F_cs[i] for i, cat in enumerate(cats_cs)}\n",
        "df['crop_season_F'] = df['crop_season'].map(cs_map)"
      ],
      "metadata": {
        "id": "UNligP468_ka"
      },
      "execution_count": 40,
      "outputs": []
    },
    {
      "cell_type": "markdown",
      "source": [
        "Assemble final feature set"
      ],
      "metadata": {
        "id": "wfgwhAuZDzkD"
      }
    },
    {
      "cell_type": "code",
      "source": [
        "# 1. Define your final feature list\n",
        "FEATURES = ['crop_F','season_F','crop_season_F','district_F','year_ctr','year_sq']\n",
        "\n",
        "# 2. Assemble X and y\n",
        "X = df[FEATURES].copy()\n",
        "y = df['yield_capped']"
      ],
      "metadata": {
        "id": "B9yKvTXUDeFr"
      },
      "execution_count": 41,
      "outputs": []
    },
    {
      "cell_type": "markdown",
      "source": [
        "Univariate F-test"
      ],
      "metadata": {
        "id": "K1GH75J02q5d"
      }
    },
    {
      "cell_type": "code",
      "source": [
        "from sklearn.feature_selection import f_regression\n",
        "\n",
        "# assume df already has 'year_ctr','year_sq','area_pt','yield_capped'\n",
        "X_num = df[['year_ctr','year_sq','area_pt']]\n",
        "F_vals, p_vals = f_regression(X_num, df['yield_capped'])\n",
        "\n",
        "for feat, F, p in zip(X_num.columns, F_vals, p_vals):\n",
        "    print(f\"{feat:8s} → F = {F:7.2f},  p = {p:.4f}\")"
      ],
      "metadata": {
        "colab": {
          "base_uri": "https://localhost:8080/"
        },
        "id": "23FVgrXojp1j",
        "outputId": "58157e04-4783-4b6a-8702-70adc6116038"
      },
      "execution_count": 42,
      "outputs": [
        {
          "output_type": "stream",
          "name": "stdout",
          "text": [
            "year_ctr → F =  234.92,  p = 0.0000\n",
            "year_sq  → F =    0.00,  p = 0.9772\n",
            "area_pt  → F =  399.66,  p = 0.0000\n"
          ]
        }
      ]
    },
    {
      "cell_type": "markdown",
      "source": [
        "year_ctr: F = 232.42, p ≈ 0 → highly significant\n",
        "\n",
        "year_sq: F = 0.49, p ≈ 0.48 → not significant at all"
      ],
      "metadata": {
        "id": "jndL5D8P2wWM"
      }
    },
    {
      "cell_type": "markdown",
      "source": [
        "###Model Selection & Training###"
      ],
      "metadata": {
        "id": "IBR_ajzW76T5"
      }
    },
    {
      "cell_type": "markdown",
      "source": [
        "Linear Regression"
      ],
      "metadata": {
        "id": "s-C5PHn4RD1E"
      }
    },
    {
      "cell_type": "code",
      "source": [
        "import pandas as pd\n",
        "import numpy as np\n",
        "from sklearn.preprocessing import OneHotEncoder\n",
        "from sklearn.feature_selection import f_regression\n",
        "from sklearn.model_selection import train_test_split\n",
        "from sklearn.linear_model import LinearRegression\n",
        "from sklearn.metrics import mean_absolute_error, mean_squared_error, r2_score\n",
        "\n",
        "# 1. Load & clean data\n",
        "df = pd.read_csv(\"Indian Agriculture Dataset.csv\")[[\n",
        "    'Crop','Season','District','Yield'\n",
        "]].dropna()\n",
        "for col in ['Crop','Season','District']:\n",
        "    df[col] = df[col].str.strip().str.lower()\n",
        "\n",
        "# 2. Cap target\n",
        "df['yield_capped'] = df['Yield'].clip(upper=100)\n",
        "\n",
        "# 3. Prepare interaction feature\n",
        "df['crop_season'] = df['Crop'] + '_' + df['Season']\n",
        "\n",
        "# 4. Split into train/test\n",
        "X_raw = df[['Crop','Season','District','crop_season']]\n",
        "y = df['yield_capped']\n",
        "X_train_raw, X_test_raw, y_train, y_test = train_test_split(\n",
        "    X_raw, y, test_size=0.2, random_state=42\n",
        ")\n",
        "\n",
        "# 5. F-value encoding helper\n",
        "def f_encode(train_df, test_df, target, col):\n",
        "    enc = OneHotEncoder(handle_unknown='ignore', sparse_output=False)\n",
        "    X_cat = enc.fit_transform(train_df[[col]])\n",
        "    F_vals, _ = f_regression(X_cat, target)\n",
        "    mapping = dict(zip(enc.categories_[0], F_vals))\n",
        "    return train_df[col].map(mapping), test_df[col].map(mapping).fillna(0)\n",
        "\n",
        "# 6. Build F-encoded matrices\n",
        "feature_cols = ['Crop','Season','District','crop_season']\n",
        "X_train = pd.DataFrame()\n",
        "X_test = pd.DataFrame()\n",
        "for col in feature_cols:\n",
        "    tr, te = f_encode(X_train_raw, X_test_raw, y_train, col)\n",
        "    X_train[f\"{col}_F\"] = tr\n",
        "    X_test[f\"{col}_F\"] = te\n",
        "\n",
        "# 7. Fit Linear Regression\n",
        "lr = LinearRegression()\n",
        "lr.fit(X_train, y_train)\n",
        "\n",
        "# 8. Predictions\n",
        "y_train_pred = lr.predict(X_train)\n",
        "y_test_pred = lr.predict(X_test)\n",
        "\n",
        "# 9. Metrics\n",
        "def print_metrics(name, y_true, y_pred):\n",
        "    mae = mean_absolute_error(y_true, y_pred)\n",
        "    mse = mean_squared_error(y_true, y_pred)\n",
        "    rmse = np.sqrt(mse)\n",
        "    r2 = r2_score(y_true, y_pred)\n",
        "    print(f\"{name} MAE  : {mae:.4f}\")\n",
        "    print(f\"{name} MSE  : {mse:.4f}\")\n",
        "    print(f\"{name} RMSE : {rmse:.4f}\")\n",
        "    print(f\"{name} R²   : {r2:.4f}\\n\")\n",
        "\n",
        "print_metrics(\"Train\", y_train, y_train_pred)\n",
        "print_metrics(\"Test\", y_test, y_test_pred)"
      ],
      "metadata": {
        "colab": {
          "base_uri": "https://localhost:8080/"
        },
        "id": "UgivsKYrkdm8",
        "outputId": "fff7c1ad-c0a2-404c-9ef5-7fc52c9a09a2"
      },
      "execution_count": 43,
      "outputs": [
        {
          "output_type": "stream",
          "name": "stdout",
          "text": [
            "Train MAE  : 3.6462\n",
            "Train MSE  : 66.1021\n",
            "Train RMSE : 8.1303\n",
            "Train R²   : 0.6942\n",
            "\n",
            "Test MAE  : 3.6089\n",
            "Test MSE  : 64.6036\n",
            "Test RMSE : 8.0376\n",
            "Test R²   : 0.6970\n",
            "\n"
          ]
        }
      ]
    },
    {
      "cell_type": "markdown",
      "source": [
        "Good generalization\n",
        "Train vs. test metrics are almost identical, so i’ve avoided overfitting even with no year or area inputs.\n",
        "\n",
        "70% of variance explained\n",
        "Model is capturing ~70% of the signal in yield purely from crop, season, district, and their interaction. That’s impressive for four categorical-based features.\n",
        "\n",
        "Error scale\n",
        "An RMSE of ~8 t/ha means typical prediction error is around eight tonnes per hectare—about the same ballpark we saw when including year and area."
      ],
      "metadata": {
        "id": "r3dsdFAWl3nk"
      }
    },
    {
      "cell_type": "markdown",
      "source": [
        "Ordinary Least Squares (OLS) Regression"
      ],
      "metadata": {
        "id": "HkUvO6jqmsLB"
      }
    },
    {
      "cell_type": "code",
      "source": [
        "import pandas as pd\n",
        "import numpy as np\n",
        "import statsmodels.api as sm\n",
        "from sklearn.preprocessing import OneHotEncoder\n",
        "from sklearn.feature_selection import f_regression\n",
        "from sklearn.model_selection import train_test_split\n",
        "from sklearn.metrics import mean_absolute_error, mean_squared_error, r2_score\n",
        "\n",
        "# 1. Load & clean data\n",
        "df = pd.read_csv(\"Indian Agriculture Dataset.csv\")[[\n",
        "    'Crop','Season','District','Yield'\n",
        "]].dropna()\n",
        "for col in ['Crop','Season','District']:\n",
        "    df[col] = df[col].str.strip().str.lower()\n",
        "\n",
        "# 2. Cap target and create interaction\n",
        "df['yield_capped'] = df['Yield'].clip(upper=100)\n",
        "df['crop_season']  = df['Crop'] + '_' + df['Season']\n",
        "\n",
        "# 3. Train/test split on raw features\n",
        "X_raw = df[['Crop','Season','District','crop_season']]\n",
        "y = df['yield_capped']\n",
        "X_tr, X_te, y_tr, y_te = train_test_split(X_raw, y, test_size=0.2, random_state=42)\n",
        "\n",
        "# 4. F-value encoding helper (train-only)\n",
        "def f_encode(train_df, test_df, target, col):\n",
        "    enc = OneHotEncoder(handle_unknown='ignore', sparse_output=False)\n",
        "    X_cat = enc.fit_transform(train_df[[col]])\n",
        "    F_vals, _ = f_regression(X_cat, target)\n",
        "    mapping = dict(zip(enc.categories_[0], F_vals))\n",
        "    return train_df[col].map(mapping), test_df[col].map(mapping).fillna(0)\n",
        "\n",
        "# 5. Build encoded feature matrices\n",
        "X_train = pd.DataFrame()\n",
        "X_test  = pd.DataFrame()\n",
        "for col in ['Crop','Season','District','crop_season']:\n",
        "    tr_f, te_f = f_encode(X_tr, X_te, y_tr, col)\n",
        "    X_train[f\"{col}_F\"] = tr_f\n",
        "    X_test [f\"{col}_F\"] = te_f\n",
        "\n",
        "# 6. Add constant for intercept\n",
        "X_train_sm = sm.add_constant(X_train)\n",
        "X_test_sm  = sm.add_constant(X_test)\n",
        "\n",
        "# 7. Fit OLS model\n",
        "model = sm.OLS(y_tr, X_train_sm).fit()\n",
        "print(model.summary())\n",
        "\n",
        "# 8. Predictions\n",
        "y_tr_pred = model.predict(X_train_sm)\n",
        "y_te_pred = model.predict(X_test_sm)\n",
        "\n",
        "# 9. Metrics\n",
        "for name, y_true, y_pred in [('Train', y_tr, y_tr_pred), ('Test', y_te, y_te_pred)]:\n",
        "    mae  = mean_absolute_error(y_true, y_pred)\n",
        "    mse  = mean_squared_error(y_true, y_pred)\n",
        "    rmse = np.sqrt(mse)\n",
        "    r2   = r2_score(y_true, y_pred)\n",
        "    print(f\"\\n{name} MAE  : {mae:.4f}\")\n",
        "    print(f\"{name} MSE  : {mse:.4f}\")\n",
        "    print(f\"{name} RMSE : {rmse:.4f}\")\n",
        "    print(f\"{name} R²   : {r2:.4f}\")"
      ],
      "metadata": {
        "id": "2Re3dfrS6WYb",
        "outputId": "0344e507-47ad-44e0-bfcc-13da5b10933c",
        "colab": {
          "base_uri": "https://localhost:8080/"
        }
      },
      "execution_count": 44,
      "outputs": [
        {
          "output_type": "stream",
          "name": "stdout",
          "text": [
            "                            OLS Regression Results                            \n",
            "==============================================================================\n",
            "Dep. Variable:           yield_capped   R-squared:                       0.694\n",
            "Model:                            OLS   Adj. R-squared:                  0.694\n",
            "Method:                 Least Squares   F-statistic:                 1.568e+05\n",
            "Date:                Thu, 17 Jul 2025   Prob (F-statistic):               0.00\n",
            "Time:                        04:07:42   Log-Likelihood:            -9.7106e+05\n",
            "No. Observations:              276299   AIC:                         1.942e+06\n",
            "Df Residuals:                  276294   BIC:                         1.942e+06\n",
            "Df Model:                           4                                         \n",
            "Covariance Type:            nonrobust                                         \n",
            "=================================================================================\n",
            "                    coef    std err          t      P>|t|      [0.025      0.975]\n",
            "---------------------------------------------------------------------------------\n",
            "const             1.1593      0.021     53.938      0.000       1.117       1.201\n",
            "Crop_F            0.0002   1.28e-06    180.038      0.000       0.000       0.000\n",
            "Season_F       7.725e-05   9.83e-07     78.574      0.000    7.53e-05    7.92e-05\n",
            "District_F        0.0264      0.001     36.815      0.000       0.025       0.028\n",
            "crop_season_F     0.0002   1.84e-06    123.205      0.000       0.000       0.000\n",
            "==============================================================================\n",
            "Omnibus:                    82424.607   Durbin-Watson:                   1.998\n",
            "Prob(Omnibus):                  0.000   Jarque-Bera (JB):          7851487.124\n",
            "Skew:                           0.439   Prob(JB):                         0.00\n",
            "Kurtosis:                      29.100   Cond. No.                     5.41e+04\n",
            "==============================================================================\n",
            "\n",
            "Notes:\n",
            "[1] Standard Errors assume that the covariance matrix of the errors is correctly specified.\n",
            "[2] The condition number is large, 5.41e+04. This might indicate that there are\n",
            "strong multicollinearity or other numerical problems.\n",
            "\n",
            "Train MAE  : 3.6462\n",
            "Train MSE  : 66.1021\n",
            "Train RMSE : 8.1303\n",
            "Train R²   : 0.6942\n",
            "\n",
            "Test MAE  : 3.6089\n",
            "Test MSE  : 64.6036\n",
            "Test RMSE : 8.0376\n",
            "Test R²   : 0.6970\n"
          ]
        }
      ]
    },
    {
      "cell_type": "markdown",
      "source": [
        "Goodness-of-Fit\n",
        "\n",
        "R² = 0.694 (Adj. R² = 0.694) – explains about 69.4 % of the variance\n",
        "\n",
        "F-statistic ≈ 1.568 × 10⁵, p < 0.001 – the model as a whole is highly significant"
      ],
      "metadata": {
        "id": "EAHC3UX2l4y8"
      }
    },
    {
      "cell_type": "markdown",
      "source": [
        "All coefficients are highly significant (p ≈ 0).\n",
        "\n",
        "Diagnostics\n",
        "\n",
        "Durbin-Watson ≈ 1.998 → no evidence of autocorrelation in residuals.\n",
        "\n",
        "Omnibus & Jarque-Bera tests → residuals non-normal (heavy tails), common in agricultural yields.\n",
        "\n",
        "Condition No. ≈ 5.4×10⁴ → stems from wide F-score ranges but VIFs were all ≈ 1, so collinearity is not a real concern."
      ],
      "metadata": {
        "id": "lCYQN3Y2l82m"
      }
    },
    {
      "cell_type": "markdown",
      "source": [
        "Train vs. Test metrics align closely → no overfitting.\n",
        "\n",
        "RMSE ≈ 8.04 t/ha on unseen data, R² ≈ 0.697 → a slight drop from the year-included model (R²≈0.699), but still a robust fit."
      ],
      "metadata": {
        "id": "tSirTiA-mASu"
      }
    },
    {
      "cell_type": "markdown",
      "source": [
        "RidgeCV"
      ],
      "metadata": {
        "id": "kK8zdOlltBA5"
      }
    },
    {
      "cell_type": "code",
      "source": [
        "import pandas as pd\n",
        "import numpy as np\n",
        "from sklearn.preprocessing import OneHotEncoder\n",
        "from sklearn.feature_selection import f_regression\n",
        "from sklearn.linear_model import RidgeCV\n",
        "from sklearn.model_selection import train_test_split, cross_validate\n",
        "from sklearn.metrics import mean_absolute_error, mean_squared_error, r2_score\n",
        "\n",
        "# 1. Load & clean data\n",
        "df = pd.read_csv(\"Indian Agriculture Dataset.csv\")[[\n",
        "    'Crop','Season','District','Yield'\n",
        "]].dropna()\n",
        "for col in ['Crop','Season','District']:\n",
        "    df[col] = df[col].str.strip().str.lower()\n",
        "df['yield_capped'] = df['Yield'].clip(upper=100)\n",
        "df['crop_season']  = df['Crop'] + '_' + df['Season']\n",
        "\n",
        "# 2. Train/test split\n",
        "X_raw = df[['Crop','Season','District','crop_season']]\n",
        "y      = df['yield_capped']\n",
        "X_train_raw, X_test_raw, y_train, y_test = train_test_split(\n",
        "    X_raw, y, test_size=0.2, random_state=42\n",
        ")\n",
        "\n",
        "# 3. F-value encoding helper (train-only)\n",
        "def f_encode(train_df, test_df, target, col):\n",
        "    enc = OneHotEncoder(handle_unknown='ignore', sparse_output=False)\n",
        "    X_cat = enc.fit_transform(train_df[[col]])\n",
        "    F_vals, _ = f_regression(X_cat, target)\n",
        "    mapping = dict(zip(enc.categories_[0], F_vals))\n",
        "    return train_df[col].map(mapping), test_df[col].map(mapping).fillna(0)\n",
        "\n",
        "# 4. Build feature matrices\n",
        "X_train = pd.DataFrame()\n",
        "X_test  = pd.DataFrame()\n",
        "for col in ['Crop','Season','District','crop_season']:\n",
        "    tr_f, te_f = f_encode(X_train_raw, X_test_raw, y_train, col)\n",
        "    X_train[f\"{col}_F\"] = tr_f\n",
        "    X_test [f\"{col}_F\"] = te_f\n",
        "\n",
        "# 5. RidgeCV with cross-validation\n",
        "alphas = np.logspace(-3, 3, 13)\n",
        "ridge = RidgeCV(alphas=alphas, cv=5, scoring='r2')\n",
        "cv = cross_validate(\n",
        "    ridge, X_train, y_train,\n",
        "    cv=5, scoring=['r2','neg_root_mean_squared_error'],\n",
        "    return_train_score=True\n",
        ")\n",
        "print(f\"5-Fold CV Train R²   : {cv['train_r2'].mean():.4f}\")\n",
        "print(f\"5-Fold CV Train RMSE : {-cv['train_neg_root_mean_squared_error'].mean():.4f}\")\n",
        "print(f\"5-Fold CV Test  R²   : {cv['test_r2'].mean():.4f}\")\n",
        "print(f\"5-Fold CV Test  RMSE : {-cv['test_neg_root_mean_squared_error'].mean():.4f}\")\n",
        "\n",
        "# 6. Final fit and evaluation\n",
        "ridge.fit(X_train, y_train)\n",
        "for name, X_set, y_true in [('Train', X_train, y_train), ('Test', X_test, y_test)]:\n",
        "    y_pred = ridge.predict(X_set)\n",
        "    mae  = mean_absolute_error(y_true, y_pred)\n",
        "    mse  = mean_squared_error(y_true, y_pred)\n",
        "    rmse = np.sqrt(mse)\n",
        "    r2   = r2_score(y_true, y_pred)\n",
        "    print(f\"\\n{name} MAE  : {mae:.4f}\")\n",
        "    print(f\"{name} MSE  : {mse:.4f}\")\n",
        "    print(f\"{name} RMSE : {rmse:.4f}\")\n",
        "    print(f\"{name} R²   : {r2:.4f}\")"
      ],
      "metadata": {
        "colab": {
          "base_uri": "https://localhost:8080/"
        },
        "id": "j-fteMnqm9li",
        "outputId": "3bca41f9-ab24-468c-819f-ac0f0fa37b91"
      },
      "execution_count": 48,
      "outputs": [
        {
          "output_type": "stream",
          "name": "stdout",
          "text": [
            "5-Fold CV Train R²   : 0.6942\n",
            "5-Fold CV Train RMSE : 8.1303\n",
            "5-Fold CV Test  R²   : 0.6940\n",
            "5-Fold CV Test  RMSE : 8.1306\n",
            "\n",
            "Train MAE  : 3.6462\n",
            "Train MSE  : 66.1021\n",
            "Train RMSE : 8.1303\n",
            "Train R²   : 0.6942\n",
            "\n",
            "Test MAE  : 3.6089\n",
            "Test MSE  : 64.6036\n",
            "Test RMSE : 8.0376\n",
            "Test R²   : 0.6970\n"
          ]
        }
      ]
    },
    {
      "cell_type": "markdown",
      "source": [
        "Ridge-penalized fit on the four F-encoded features (no year) sits right on top of your plain OLS:\n",
        "\n",
        "5-Fold CV\n",
        "\n",
        "Train R² ≈ 0.6942 | Train RMSE ≈ 8.1303 t/ha\n",
        "\n",
        "Test R² ≈ 0.6940 | Test RMSE ≈ 8.1306 t/ha\n",
        "\n",
        "Hold-out\n",
        "\n",
        "Train MAE ≈ 3.6462 | RMSE ≈ 8.1303 | R² ≈ 0.6942\n",
        "\n",
        "Test MAE ≈ 3.6089 | RMSE ≈ 8.0376 | R² ≈ 0.6970\n",
        "\n",
        "Key takeaway: the L2 penalty didn’t improve or degrade your linear benchmark—your coefficients were already well-behaved, and there was no overfitting to correct."
      ],
      "metadata": {
        "id": "fQJvLtedvlJA"
      }
    },
    {
      "cell_type": "markdown",
      "source": [
        "I picked **RidgeCV** over **LassoCV** for a few practical reasons in this setting:\n",
        "\n",
        "1. **All features carry signal**\n",
        "   Our η²/χ² analysis showed that every engineered feature—especially `crop_F`, `season_F`, and `crop_season_F`—adds meaningful variance explanation. **Lasso** would tend to drive some coefficients exactly to zero, effectively dropping features. Here we actually want to keep them all. **Ridge** simply shrinks them, but preserves each feature’s contribution.\n",
        "\n",
        "2. **Low collinearity & stable scales**\n",
        "   After centering and transforming, our six inputs have very low mutual correlation. In that regime, Ridge’s ℓ₂ penalty offers a tiny, uniform shrinkage to reduce variance, without the aggressive sparsity pressure of Lasso’s ℓ₁ penalty.\n",
        "\n",
        "3. **Empirical parity**\n",
        "   When we tried **ElasticNetCV** (which interpolates between Ridge and Lasso), it picked an **l1\\_ratio ≈ 0.1**—i.e. almost pure Ridge—and delivered identical RMSE/R² to RidgeCV. That told us Lasso’s feature-zeroing wasn’t buying us anything.\n",
        "\n",
        "4. **Smooth coefficient paths**\n",
        "   Ridge gives a continuous path of coefficients as you vary α, which is easier to tune and interpret when you have only a handful of predictors, whereas Lasso can exhibit sudden jumps (dropping a feature entirely) that may not be desirable."
      ],
      "metadata": {
        "id": "suHhh0TgtIta"
      }
    },
    {
      "cell_type": "markdown",
      "source": [
        "###New Model###\n",
        "\n"
      ],
      "metadata": {
        "id": "KushxyZ2vqGR"
      }
    },
    {
      "cell_type": "markdown",
      "source": [
        "RandomForest, XGBoost, and LinearSVR using a sampled subset and 3-fold CV for fast execution"
      ],
      "metadata": {
        "id": "g34RIjn7zTPw"
      }
    },
    {
      "cell_type": "code",
      "source": [
        "import pandas as pd\n",
        "import numpy as np\n",
        "from sklearn.preprocessing import OneHotEncoder, StandardScaler\n",
        "from sklearn.feature_selection import f_regression\n",
        "from sklearn.model_selection import train_test_split, cross_validate\n",
        "from sklearn.metrics import mean_absolute_error, mean_squared_error, r2_score\n",
        "from sklearn.ensemble import RandomForestRegressor\n",
        "from xgboost import XGBRegressor\n",
        "from sklearn.svm import LinearSVR\n",
        "from sklearn.pipeline import make_pipeline\n",
        "\n",
        "# 1) Load & preprocess\n",
        "df = pd.read_csv(\"Indian Agriculture Dataset.csv\")[[\n",
        "    'Crop','Season','District','Year','Yield'\n",
        "]].dropna()\n",
        "for c in ['Crop','Season','District']:\n",
        "    df[c] = df[c].str.strip().str.lower()\n",
        "df['yield_capped'] = df['Yield'].clip(upper=100)\n",
        "df['crop_season']  = df['Crop'] + '_' + df['Season']\n",
        "\n",
        "# 2) Train/test split\n",
        "Xr = df[['Crop','Season','District','crop_season','Year']]\n",
        "yr = df['yield_capped']\n",
        "Xtr_raw, Xte_raw, ytr, yte = train_test_split(\n",
        "    Xr, yr, test_size=0.2, random_state=42\n",
        ")\n",
        "\n",
        "# 3) Sample 50k for speed\n",
        "sample_idx = ytr.sample(n=50000, random_state=42).index\n",
        "Xtr_s = Xtr_raw.loc[sample_idx]\n",
        "ytr_s = ytr.loc[sample_idx]\n",
        "\n",
        "# 4) Train-only F-value encoding\n",
        "def f_encode(tr, te, y, col):\n",
        "    enc = OneHotEncoder(handle_unknown='ignore', sparse_output=False)\n",
        "    Xt = enc.fit_transform(tr[[col]])\n",
        "    F_vals, _ = f_regression(Xt, y)\n",
        "    mapping = dict(zip(enc.categories_[0], F_vals))\n",
        "    return tr[col].map(mapping), te[col].map(mapping).fillna(0)\n",
        "\n",
        "# 5) Build feature matrices\n",
        "Xtr = pd.DataFrame(); Xte = pd.DataFrame()\n",
        "for col in ['Crop','Season','District','crop_season']:\n",
        "    tr_f, te_f = f_encode(Xtr_s, Xte_raw, ytr_s, col)\n",
        "    Xtr[f\"{col}_F\"] = tr_f\n",
        "    Xte[f\"{col}_F\"] = te_f\n",
        "\n",
        "# 6) Define models\n",
        "models = {\n",
        "    'RandomForest': RandomForestRegressor(\n",
        "        n_estimators=200, max_depth=20, min_samples_leaf=5,\n",
        "        n_jobs=-1, random_state=42\n",
        "    ),\n",
        "    'XGBoost': XGBRegressor(\n",
        "        n_estimators=200, max_depth=10, learning_rate=0.05,\n",
        "        subsample=0.8, colsample_bytree=0.8,\n",
        "        tree_method='hist',\n",
        "        random_state=42, n_jobs=-1, eval_metric='rmse',\n",
        "        use_label_encoder=False\n",
        "    ),\n",
        "    'LinearSVR': make_pipeline(\n",
        "        StandardScaler(),\n",
        "        LinearSVR(max_iter=5000, random_state=42)\n",
        "    )\n",
        "}\n",
        "\n",
        "# 7) 3-Fold CV + hold-out\n",
        "results = []\n",
        "for name, mdl in models.items():\n",
        "    cv = cross_validate(\n",
        "        mdl, Xtr, ytr_s, cv=3,\n",
        "        scoring=['r2', 'neg_root_mean_squared_error'],\n",
        "        return_train_score=True,\n",
        "        n_jobs=-1\n",
        "    )\n",
        "    mdl.fit(Xtr, ytr_s)\n",
        "    y_pred = mdl.predict(Xte)\n",
        "    results.append({\n",
        "        'Model': name,\n",
        "        'CV R² (train)':    cv['train_r2'].mean(),\n",
        "        'CV RMSE (train)': -cv['train_neg_root_mean_squared_error'].mean(),\n",
        "        'CV R² (test)':     cv['test_r2'].mean(),\n",
        "        'CV RMSE (test)':  -cv['test_neg_root_mean_squared_error'].mean(),\n",
        "        'Test MAE':          mean_absolute_error(yte, y_pred),\n",
        "        'Test RMSE':         np.sqrt(mean_squared_error(yte, y_pred)),\n",
        "        'Test R²':           r2_score(yte, y_pred)\n",
        "    })\n",
        "\n",
        "# 8) Display\n",
        "print(pd.DataFrame(results).set_index('Model'))"
      ],
      "metadata": {
        "colab": {
          "base_uri": "https://localhost:8080/"
        },
        "id": "2uGUjCL5tJ6w",
        "outputId": "2a8e7215-e481-4a00-c177-747a94a37633"
      },
      "execution_count": 49,
      "outputs": [
        {
          "output_type": "stream",
          "name": "stderr",
          "text": [
            "/usr/local/lib/python3.11/dist-packages/xgboost/core.py:158: UserWarning: [18:12:22] WARNING: /workspace/src/learner.cc:740: \n",
            "Parameters: { \"use_label_encoder\" } are not used.\n",
            "\n",
            "  warnings.warn(smsg, UserWarning)\n"
          ]
        },
        {
          "output_type": "stream",
          "name": "stdout",
          "text": [
            "              CV R² (train)  CV RMSE (train)  CV R² (test)  CV RMSE (test)  \\\n",
            "Model                                                                        \n",
            "RandomForest       0.904104         4.577416      0.859465        5.537819   \n",
            "XGBoost            0.922449         4.116480      0.867004        5.386536   \n",
            "LinearSVR          0.669951         8.492855      0.669246        8.497197   \n",
            "\n",
            "              Test MAE  Test RMSE   Test R²  \n",
            "Model                                        \n",
            "RandomForest  1.702334   5.225455  0.871949  \n",
            "XGBoost       1.744722   5.321241  0.867212  \n",
            "LinearSVR     3.001720   8.507786  0.660557  \n"
          ]
        }
      ]
    },
    {
      "cell_type": "markdown",
      "source": [
        "Key speed‐ups:\n",
        "\n",
        "3-fold CV instead of 5-fold\n",
        "\n",
        "50 000-row subsample for fitting\n",
        "\n",
        "n_jobs=-1 on tree models\n",
        "\n",
        "tree_method='hist' for XGBoost\n",
        "\n",
        "LinearSVR (faster than full SVR)"
      ],
      "metadata": {
        "id": "TjkGRmlm01DE"
      }
    },
    {
      "cell_type": "markdown",
      "source": [
        "LinearSVR hangs at roughly the same performance as your linear models (R² ≈ 0.67, RMSE ≈ 8.5 t/ha), so it’s not adding any non-linear lift.\n",
        "\n",
        "Random Forest\n",
        "\n",
        "Train → CV drop from 0.904 to 0.859 indicates moderate overfitting, but not egregious.\n",
        "\n",
        "Test R² ≈ 0.872, Test RMSE ≈ 5.23 t/ha, Test MAE ≈ 1.70 t/ha.\n",
        "\n",
        "Cutting RMSE by ~35% relative to the OLS/Ridge baseline.\n",
        "\n",
        "XGBoost\n",
        "\n",
        "Train → CV from 0.922 → 0.867 shows a bit more overfitting than RF but still well-controlled.\n",
        "\n",
        "Test R² ≈ 0.867, Test RMSE ≈ 5.32 t/ha, Test MAE ≈ 1.74 t/ha.\n",
        "\n",
        "Slightly worse on RMSE/MAE than RF, but the higher train and CV R² suggests it may generalize better once tuned fully (we used a simpler parameter set here for speed)."
      ],
      "metadata": {
        "id": "NJu8KHKRsTBL"
      }
    },
    {
      "cell_type": "markdown",
      "source": [
        "Hyperparameter Tuning Roadmap"
      ],
      "metadata": {
        "id": "c-RxNZIpvDGN"
      }
    },
    {
      "cell_type": "code",
      "source": [
        "import pandas as pd\n",
        "import numpy as np\n",
        "from sklearn.preprocessing import OneHotEncoder\n",
        "from sklearn.feature_selection import f_regression\n",
        "from sklearn.model_selection import train_test_split, RandomizedSearchCV\n",
        "from xgboost import XGBRegressor\n",
        "from scipy.stats import randint, uniform\n",
        "from sklearn.metrics import mean_squared_error, r2_score\n",
        "\n",
        "# 1. Load & preprocess\n",
        "df = pd.read_csv(\"Indian Agriculture Dataset.csv\")[[\n",
        "    'Crop','Season','District','Year','Yield'\n",
        "]].dropna()\n",
        "for col in ['Crop','Season','District']:\n",
        "    df[col] = df[col].str.strip().str.lower()\n",
        "df['yield_capped'] = df['Yield'].clip(upper=100)\n",
        "df['crop_season']  = df['Crop'] + '_' + df['Season']\n",
        "\n",
        "# 2. Split and sample for speed\n",
        "Xr = df[['Crop','Season','District','crop_season','Year']]\n",
        "yr = df['yield_capped']\n",
        "Xtr_raw, Xte_raw, ytr, yte = train_test_split(Xr, yr, test_size=0.2, random_state=42)\n",
        "# use a 50k sample from training for tuning\n",
        "sample_idx = ytr.sample(n=50000, random_state=42).index\n",
        "Xtr_s = Xtr_raw.loc[sample_idx]\n",
        "ytr_s = ytr.loc[sample_idx]\n",
        "\n",
        "# 3. Supervised F-value encoding (train-only)\n",
        "def f_encode(train_df, test_df, y, col):\n",
        "    enc = OneHotEncoder(handle_unknown='ignore', sparse_output=False)\n",
        "    Xt = enc.fit_transform(train_df[[col]])\n",
        "    F_vals, _ = f_regression(Xt, y)\n",
        "    mapping = dict(zip(enc.categories_[0], F_vals))\n",
        "    return train_df[col].map(mapping), test_df[col].map(mapping).fillna(0)\n",
        "\n",
        "# 4. Build training & test matrices\n",
        "Xtr = pd.DataFrame(); Xte = pd.DataFrame()\n",
        "for col in ['Crop','Season','District','crop_season']:\n",
        "    tr_f, te_f = f_encode(Xtr_s, Xte_raw, ytr_s, col)\n",
        "    Xtr[f\"{col}_F\"] = tr_f\n",
        "    Xte[f\"{col}_F\"] = te_f\n",
        "\n",
        "# 5. Define parameter distributions for XGBoost\n",
        "param_dist = {\n",
        "    'n_estimators': randint(100, 1000),\n",
        "    'max_depth': randint(3, 15),\n",
        "    'learning_rate': uniform(0.01, 0.3),\n",
        "    'subsample': uniform(0.5, 0.5),\n",
        "    'colsample_bytree': uniform(0.5, 0.5),\n",
        "    'gamma': uniform(0, 5),\n",
        "    'reg_alpha': uniform(0, 1),\n",
        "    'reg_lambda': uniform(0, 1)\n",
        "}\n",
        "\n",
        "# 6. Set up RandomizedSearchCV\n",
        "xgb = XGBRegressor(\n",
        "    tree_method='hist',\n",
        "    random_state=42,\n",
        "    eval_metric='rmse',\n",
        "    use_label_encoder=False,\n",
        "    n_jobs=-1\n",
        ")\n",
        "search = RandomizedSearchCV(\n",
        "    xgb,\n",
        "    param_distributions=param_dist,\n",
        "    n_iter=25,\n",
        "    cv=3,\n",
        "    scoring='neg_root_mean_squared_error',\n",
        "    random_state=42,\n",
        "    n_jobs=-1,\n",
        "    verbose=1\n",
        ")\n",
        "\n",
        "# 7. Run hyperparameter search\n",
        "search.fit(Xtr, ytr_s)\n",
        "\n",
        "# 8. Best parameters & CV score\n",
        "print(\"Best XGB params:\", search.best_params_)\n",
        "print(\"Best CV RMSE  :\", -search.best_score_)\n",
        "\n",
        "# 9. Evaluate final model on hold-out test\n",
        "best_xgb = search.best_estimator_\n",
        "y_pred = best_xgb.predict(Xte)\n",
        "rmse = np.sqrt(mean_squared_error(yte, y_pred))\n",
        "r2   = r2_score(yte, y_pred)\n",
        "print(f\"Test RMSE: {rmse:.4f} t/ha\")\n",
        "print(f\"Test R²  : {r2:.4f}\")"
      ],
      "metadata": {
        "colab": {
          "base_uri": "https://localhost:8080/"
        },
        "id": "50GvvmZJuoI-",
        "outputId": "4c3260f4-d7c0-4392-b13b-4a4fb74ab9a0"
      },
      "execution_count": 50,
      "outputs": [
        {
          "output_type": "stream",
          "name": "stdout",
          "text": [
            "Fitting 3 folds for each of 25 candidates, totalling 75 fits\n"
          ]
        },
        {
          "output_type": "stream",
          "name": "stderr",
          "text": [
            "/usr/local/lib/python3.11/dist-packages/xgboost/core.py:158: UserWarning: [18:16:13] WARNING: /workspace/src/learner.cc:740: \n",
            "Parameters: { \"use_label_encoder\" } are not used.\n",
            "\n",
            "  warnings.warn(smsg, UserWarning)\n"
          ]
        },
        {
          "output_type": "stream",
          "name": "stdout",
          "text": [
            "Best XGB params: {'colsample_bytree': np.float64(0.5324461235544908), 'gamma': np.float64(1.2695770696717235), 'learning_rate': np.float64(0.08406281885158035), 'max_depth': 9, 'n_estimators': 485, 'reg_alpha': np.float64(0.712270589924442), 'reg_lambda': np.float64(0.1480869299533999), 'subsample': np.float64(0.9988702425244709)}\n",
            "Best CV RMSE  : 5.37003598208008\n",
            "Test RMSE: 5.3297 t/ha\n",
            "Test R²  : 0.8668\n"
          ]
        }
      ]
    },
    {
      "cell_type": "markdown",
      "source": [
        "After running 75 total fits (3‐fold CV across 25 hyperparameter combinations), the optimized XGBoost settings settled on moderately deep trees (max_depth=9, n_estimators=485) with a mid-range learning rate (~0.08), nearly full row sampling (subsample ≈0.999), and about half the features considered per split (colsample_bytree ≈0.53). The regularization terms landed on a fairly strong L₁ penalty (reg_alpha ≈0.71) and a lighter L₂ penalty (reg_lambda ≈0.15), together with a nonzero “gamma” split penalty (≈1.27) to discourage overly complex branches. These choices yielded a cross-validated RMSE of about 5.37 t/ha, and when applied to the hold-out test set produced an RMSE of 5.33 t/ha with R² around 0.867. In other words, careful tuning shaved roughly 0.06 t/ha off the RMSE compared to the untuned model and solidified its ability to explain about 87 % of yield variance."
      ],
      "metadata": {
        "id": "vmE4uQLw7IxA"
      }
    },
    {
      "cell_type": "markdown",
      "source": [
        "Final training on full data\n",
        "Remove any sampling you used for speed. Fit your chosen model (XGB) on the entire training set with the tuned hyperparameters, then re-evaluate on your hold-out test for a final, unbiased performance estimate."
      ],
      "metadata": {
        "id": "h1TqYrfa7x6m"
      }
    },
    {
      "cell_type": "code",
      "source": [
        "import pandas as pd\n",
        "import numpy as np\n",
        "from sklearn.preprocessing import OneHotEncoder\n",
        "from sklearn.feature_selection import f_regression\n",
        "from sklearn.model_selection import train_test_split\n",
        "from xgboost import XGBRegressor\n",
        "from sklearn.metrics import mean_absolute_error, mean_squared_error, r2_score\n",
        "\n",
        "# 1. Load & preprocess full data\n",
        "df = pd.read_csv(\"Indian Agriculture Dataset.csv\")[[\n",
        "    'Crop','Season','District','Yield'\n",
        "]].dropna()\n",
        "for col in ['Crop','Season','District']:\n",
        "    df[col] = df[col].str.strip().str.lower()\n",
        "\n",
        "df['yield_capped'] = df['Yield'].clip(upper=100)\n",
        "df['crop_season']  = df['Crop'] + '_' + df['Season']\n",
        "\n",
        "# 2. Split into train/test (no sampling)\n",
        "X_raw = df[['Crop','Season','District','crop_season']]\n",
        "y = df['yield_capped']\n",
        "X_train_raw, X_test_raw, y_train, y_test = train_test_split(\n",
        "    X_raw, y, test_size=0.2, random_state=42\n",
        ")\n",
        "\n",
        "# 3. Train-only F-value encoding function\n",
        "def f_encode(train_df, test_df, target, col):\n",
        "    enc = OneHotEncoder(handle_unknown='ignore', sparse_output=False)\n",
        "    X_cat = enc.fit_transform(train_df[[col]])\n",
        "    F_vals, _ = f_regression(X_cat, target)\n",
        "    mapping = dict(zip(enc.categories_[0], F_vals))\n",
        "    return train_df[col].map(mapping), test_df[col].map(mapping).fillna(0)\n",
        "\n",
        "# 4. Build final feature matrices\n",
        "X_train = pd.DataFrame()\n",
        "X_test  = pd.DataFrame()\n",
        "for col in ['Crop','Season','District','crop_season']:\n",
        "    tr_f, te_f = f_encode(X_train_raw, X_test_raw, y_train, col)\n",
        "    X_train[f\"{col}_F\"] = tr_f\n",
        "    X_test [f\"{col}_F\"] = te_f\n",
        "\n",
        "# 5. Instantiate tuned XGBRegressor (no year feature)\n",
        "xgb_final = XGBRegressor(\n",
        "    n_estimators=485,\n",
        "    max_depth=9,\n",
        "    learning_rate=0.08406281885158035,\n",
        "    subsample=0.9988702425244709,\n",
        "    colsample_bytree=0.5324461235544908,\n",
        "    gamma=1.2695770696717235,\n",
        "    reg_alpha=0.712270589924442,\n",
        "    reg_lambda=0.1480869299533999,\n",
        "    tree_method='hist',\n",
        "    eval_metric='rmse',\n",
        "    random_state=42,\n",
        "    n_jobs=-1,\n",
        "    use_label_encoder=False\n",
        ")\n",
        "\n",
        "# 6. Fit on full training set\n",
        "xgb_final.fit(X_train, y_train)\n",
        "\n",
        "# 7. Evaluate on train & test\n",
        "def evaluate(name, model, X, y):\n",
        "    preds = model.predict(X)\n",
        "    mae  = mean_absolute_error(y, preds)\n",
        "    mse  = mean_squared_error(y, preds)\n",
        "    rmse = np.sqrt(mse)\n",
        "    r2   = r2_score(y, preds)\n",
        "    # Calculate adjusted R-squared\n",
        "    n = X.shape[0]  # number of observations\n",
        "    p = X.shape[1]  # number of features\n",
        "    adjusted_r2 = 1 - (1 - r2) * (n - 1) / (n - p - 1)\n",
        "\n",
        "    print(f\"{name} MAE          : {mae:.4f}\")\n",
        "    print(f\"{name} MSE          : {mse:.4f}\")\n",
        "    print(f\"{name} RMSE         : {rmse:.4f}\")\n",
        "    print(f\"{name} R²           : {r2:.4f}\")\n",
        "    print(f\"{name} Adjusted R²  : {adjusted_r2:.4f}\\n\")\n",
        "\n",
        "evaluate(\"Train\", xgb_final, X_train, y_train)\n",
        "evaluate(\"Test\",  xgb_final, X_test,  y_test)"
      ],
      "metadata": {
        "colab": {
          "base_uri": "https://localhost:8080/"
        },
        "id": "GfOR2uHt7yUy",
        "outputId": "5980f02b-0a08-442b-ce86-45f103003e39"
      },
      "execution_count": 3,
      "outputs": [
        {
          "output_type": "stream",
          "name": "stderr",
          "text": [
            "/usr/local/lib/python3.11/dist-packages/xgboost/core.py:158: UserWarning: [03:44:39] WARNING: /workspace/src/learner.cc:740: \n",
            "Parameters: { \"use_label_encoder\" } are not used.\n",
            "\n",
            "  warnings.warn(smsg, UserWarning)\n"
          ]
        },
        {
          "output_type": "stream",
          "name": "stdout",
          "text": [
            "Train MAE          : 1.5975\n",
            "Train MSE          : 22.2407\n",
            "Train RMSE         : 4.7160\n",
            "Train R²           : 0.8971\n",
            "Train Adjusted R²  : 0.8971\n",
            "\n",
            "Test MAE          : 1.6246\n",
            "Test MSE          : 23.0528\n",
            "Test RMSE         : 4.8013\n",
            "Test R²           : 0.8919\n",
            "Test Adjusted R²  : 0.8919\n",
            "\n"
          ]
        }
      ]
    },
    {
      "cell_type": "markdown",
      "source": [
        "Now model explains nearly 90% of the variance in per-hectare yield with an RMSE under 5 t/ha—more than double the explanatory power of your linear baseline.\n",
        "\n",
        "The small gap between train vs. test (ΔR² ≈ 0.005, ΔRMSE ≈ 0.08 t/ha) shows minimal overfitting and robust generalization.\n",
        "\n",
        "An MAE of ~1.6 t/ha means half your predictions fall within about 1.6 t/ha of actual yield—excellent accuracy for agricultural forecasting."
      ],
      "metadata": {
        "id": "vxGE5R8b866Y"
      }
    },
    {
      "cell_type": "markdown",
      "source": [
        "Feature importances & SHAP\n",
        "\n",
        "Extract XGBoost’s built-in feature importances to verify which engineered features drive most of the gain.\n",
        "\n",
        "For deeper insight, compute and visualize SHAP values to see per‐sample contributions."
      ],
      "metadata": {
        "id": "NmOdwbAx_Yj9"
      }
    },
    {
      "cell_type": "code",
      "source": [
        "import pandas as pd\n",
        "import matplotlib.pyplot as plt\n",
        "\n",
        "# 1. Built-in feature importances\n",
        "feat_imp = pd.DataFrame({\n",
        "    'feature': X_train.columns,\n",
        "    'importance': xgb_final.feature_importances_\n",
        "}).sort_values('importance', ascending=False)\n",
        "\n",
        "print(\"XGBoost Feature Importances:\\n\", feat_imp)\n",
        "\n",
        "plt.figure(figsize=(6, 4))\n",
        "feat_imp.plot.barh(x='feature', y='importance', legend=False)\n",
        "plt.gca().invert_yaxis()\n",
        "plt.xlabel(\"Importance\")\n",
        "plt.title(\"XGBoost Feature Importances\")\n",
        "plt.tight_layout()\n",
        "plt.show()"
      ],
      "metadata": {
        "colab": {
          "base_uri": "https://localhost:8080/",
          "height": 608
        },
        "id": "nPm9GcJp_XSg",
        "outputId": "0eb4e9a2-03cf-4738-d19b-2248cee33328"
      },
      "execution_count": 55,
      "outputs": [
        {
          "output_type": "stream",
          "name": "stdout",
          "text": [
            "XGBoost Feature Importances:\n",
            "          feature  importance\n",
            "0         Crop_F    0.613870\n",
            "3  crop_season_F    0.294212\n",
            "1       Season_F    0.063727\n",
            "2     District_F    0.028191\n"
          ]
        },
        {
          "output_type": "display_data",
          "data": {
            "text/plain": [
              "<Figure size 600x400 with 0 Axes>"
            ]
          },
          "metadata": {}
        },
        {
          "output_type": "display_data",
          "data": {
            "text/plain": [
              "<Figure size 640x480 with 1 Axes>"
            ],
            "image/png": "[encoded data removed]"
          },
          "metadata": {}
        }
      ]
    },
    {
      "cell_type": "markdown",
      "source": [
        "SHAP gives:\n",
        "\n",
        "Exact contribution of each feature to each prediction\n",
        "\n",
        "Directionality (e.g., high Crop_F value → +5 yield)\n",
        "\n",
        "Visual tools like:\n",
        "\n",
        "beeswarm → overall feature influence\n",
        "\n",
        "waterfall → explanation for a single prediction\n",
        "\n",
        "bar → average SHAP values (like better feature importance)\n",
        "\n",
        "Would you like to generate that now?\n",
        "\n",
        "I can walk you through:\n",
        "\n",
        "SHAP summary plot (all features)\n",
        "\n",
        "SHAP explanation for a single prediction\n",
        "\n",
        "SHAP value table (if you want to export and analyze in Excel or pandas)"
      ],
      "metadata": {
        "id": "pS9qvgbbtvPW"
      }
    },
    {
      "cell_type": "code",
      "source": [
        "import shap\n",
        "import matplotlib.pyplot as plt\n",
        "\n",
        "# --- assumes xgb_final and X_train are already in scope ---\n",
        "\n",
        "# 1. Sample a subset for speed\n",
        "X_sample = X_train.sample(1000, random_state=42)\n",
        "\n",
        "# 2. Create a SHAP Explainer for your XGB model\n",
        "explainer = shap.Explainer(xgb_final, X_train)\n",
        "\n",
        "# 3. Compute SHAP values for the sample\n",
        "shap_values = explainer(X_sample)\n",
        "\n",
        "# 4. Global feature importance (bar chart)\n",
        "plt.figure(figsize=(6, 4))\n",
        "shap.plots.bar(shap_values, show=False)\n",
        "plt.title(\"SHAP Global Feature Importance\")\n",
        "plt.tight_layout()\n",
        "plt.show()\n",
        "\n",
        "# 5. Detailed summary (beeswarm)\n",
        "plt.figure(figsize=(6, 4))\n",
        "shap.plots.beeswarm(shap_values, show=False)\n",
        "plt.title(\"SHAP Summary Beeswarm\")\n",
        "plt.tight_layout()\n",
        "plt.show()\n",
        "\n",
        "# 6. Dependence plot for Crop_F, zoomed to 99th percentile\n",
        "plt.figure(figsize=(6, 4))\n",
        "shap.plots.scatter(shap_values[:, 'Crop_F'], show=False)\n",
        "plt.xlim(0, X_sample['Crop_F'].quantile(0.99))\n",
        "plt.title(\"SHAP Dependence: Crop_F (zoomed 99th percentile)\")\n",
        "plt.tight_layout()\n",
        "plt.show()"
      ],
      "metadata": {
        "colab": {
          "base_uri": "https://localhost:8080/",
          "height": 1000
        },
        "id": "gZkVctnosrwT",
        "outputId": "4a367285-f3d2-4cae-a302-d9cf5315d3b6"
      },
      "execution_count": 64,
      "outputs": [
        {
          "output_type": "stream",
          "name": "stderr",
          "text": [
            " 97%|=================== | 969/1000 [00:30<00:00]       "
          ]
        },
        {
          "output_type": "display_data",
          "data": {
            "text/plain": [
              "<Figure size 800x350 with 1 Axes>"
            ],
            "image/png": "[encoded data removed]"
          },
          "metadata": {}
        },
        {
          "output_type": "display_data",
          "data": {
            "text/plain": [
              "<Figure size 800x310 with 2 Axes>"
            ],
            "image/png": "[encoded data removed]"
          },
          "metadata": {}
        },
        {
          "output_type": "display_data",
          "data": {
            "text/plain": [
              "<Figure size 600x400 with 0 Axes>"
            ]
          },
          "metadata": {}
        },
        {
          "output_type": "display_data",
          "data": {
            "text/plain": [
              "<Figure size 600x500 with 2 Axes>"
            ],
            "image/png": "[encoded data removed]"
          },
          "metadata": {}
        }
      ]
    },
    {
      "cell_type": "markdown",
      "source": [
        "The final SHAP visuals underscore exactly what my model’s built‐in importances already told, but with a clear, per‐sample view:\n",
        "\n",
        "1. **Global Importance (bar chart):**\n",
        "\n",
        "   * **Crop\\_F** dominates, with an average |SHAP| of about **4.0**, meaning that simply knowing the crop gives you the biggest swing in the predicted yield.\n",
        "   * **crop\\_season\\_F** is the next most powerful (≈ 3.0), capturing how that same crop behaves differently across seasons.\n",
        "   * **District\\_F** (≈ 0.8) and **Season\\_F** (≈ 0.5) make much smaller contributions.\n",
        "\n",
        "2. **Beeswarm Summary:**\n",
        "\n",
        "   * **Red points** (high feature values) for **Crop\\_F** and **crop\\_season\\_F** appear on the right side, pushing predictions **up**, while **blue points** (low values) sit on the left, pushing predictions **down**.\n",
        "   * **District\\_F** and **Season\\_F** show the same pattern but much more tightly clustered around zero, reflecting their smaller overall impact.\n",
        "\n",
        "3. **Dependence Plot for Crop\\_F (zoomed to the 99th percentile):**\n",
        "\n",
        "   * You see a **roughly linear, upward trend** in SHAP value as Crop\\_F increases from 0 to \\~10 000, confirming that better‐scoring crops consistently boost predicted yield.\n",
        "   * Beyond \\~10 000 (the extreme few categories), SHAP values jump even higher—these are the rare, very high‐yielding crop–season combinations that your model flags as outliers.\n",
        "\n",
        "---\n",
        "\n",
        "**In plain English:**\n",
        "Your XGBoost ensemble leans almost entirely on the “what crop” signal, with “when (season)” fine‐tuning that base prediction and “where (district/season)” adding only minor adjustments. This makes agronomic sense—crop choice is the strongest lever for total per-hectare yield, seasonality modulates that, and location effects are secondary. The SHAP dependence confirms it: as you move from low-yielding crops (low `Crop_F`) to high-yielding ones, your model’s output climbs steadily, with the most extreme combos producing the biggest predicted gains."
      ],
      "metadata": {
        "id": "EoC7737ctoJy"
      }
    },
    {
      "cell_type": "markdown",
      "source": [
        "Finalising Pipeline"
      ],
      "metadata": {
        "id": "c7DAD_K8VH0X"
      }
    },
    {
      "cell_type": "markdown",
      "source": [
        "Wrap your preprocessing (F-encoders, capping) and the tuned XGBoost model into a single Pipeline or script.\n",
        "\n",
        "Save it with joblib or pickle for production use."
      ],
      "metadata": {
        "id": "PJvQNPCRVj93"
      }
    },
    {
      "cell_type": "code",
      "source": [
        "import pandas as pd\n",
        "from sklearn.base import BaseEstimator, TransformerMixin\n",
        "from sklearn.pipeline import Pipeline\n",
        "from sklearn.preprocessing import OneHotEncoder\n",
        "from sklearn.feature_selection import f_regression\n",
        "from xgboost import XGBRegressor\n",
        "import joblib\n",
        "\n",
        "# 1. Custom transformer: supervised F‑value encoding\n",
        "class FValueEncoder(BaseEstimator, TransformerMixin):\n",
        "    def __init__(self, cols):\n",
        "        self.cols = cols\n",
        "        self.maps_ = {}\n",
        "    def fit(self, X, y):\n",
        "        for col in self.cols:\n",
        "            enc = OneHotEncoder(handle_unknown='ignore', sparse_output=False)\n",
        "            X_cat = enc.fit_transform(X[[col]])\n",
        "            F_vals, _ = f_regression(X_cat, y)\n",
        "            cats = enc.categories_[0]\n",
        "            self.maps_[col] = dict(zip(cats, F_vals))\n",
        "        return self\n",
        "    def transform(self, X):\n",
        "        X2 = X.copy()\n",
        "        out = pd.DataFrame(index=X2.index)\n",
        "        for col in self.cols:\n",
        "            out[f\"{col}_F\"] = X2[col].map(self.maps_[col]).fillna(0)\n",
        "        return out\n",
        "\n",
        "# 2. Load & preprocess data\n",
        "df = pd.read_csv(\"Indian Agriculture Dataset.csv\")[['Crop','Season','District','Yield']].dropna()\n",
        "for c in ['Crop','Season','District']:\n",
        "    df[c] = df[c].str.strip().str.lower()\n",
        "df['yield_capped'] = df['Yield'].clip(upper=100)\n",
        "df['crop_season']  = df['Crop'] + '_' + df['Season']\n",
        "\n",
        "# 3. Define features and target\n",
        "X = df[['Crop','Season','District','crop_season']]\n",
        "y = df['yield_capped']\n",
        "\n",
        "# 4. Build pipeline with tuned XGBoost\n",
        "pipeline = Pipeline([\n",
        "    ('fval', FValueEncoder(['Crop','Season','District','crop_season'])),\n",
        "    ('xgb', XGBRegressor(\n",
        "        n_estimators=485,\n",
        "        max_depth=9,\n",
        "        learning_rate=0.08406281885158035,\n",
        "        subsample=0.9988702425244709,\n",
        "        colsample_bytree=0.5324461235544908,\n",
        "        gamma=1.2695770696717235,\n",
        "        reg_alpha=0.712270589924442,\n",
        "        reg_lambda=0.1480869299533999,\n",
        "        tree_method='hist',\n",
        "        eval_metric='rmse',\n",
        "        random_state=42,\n",
        "        n_jobs=-1,\n",
        "        use_label_encoder=False\n",
        "    ))\n",
        "])\n",
        "\n",
        "# 5. Fit on full dataset\n",
        "pipeline.fit(X, y)\n",
        "\n",
        "# 6. Save to disk\n",
        "joblib.dump(pipeline, \"yield_xgb_pipeline.pkl\")"
      ],
      "metadata": {
        "colab": {
          "base_uri": "https://localhost:8080/"
        },
        "id": "9Uow3cgsVJ4_",
        "outputId": "20cd35cf-dfe5-4f26-eecb-6a142d4f4274"
      },
      "execution_count": 5,
      "outputs": [
        {
          "output_type": "stream",
          "name": "stderr",
          "text": [
            "/usr/local/lib/python3.11/dist-packages/xgboost/core.py:158: UserWarning: [04:01:47] WARNING: /workspace/src/learner.cc:740: \n",
            "Parameters: { \"use_label_encoder\" } are not used.\n",
            "\n",
            "  warnings.warn(smsg, UserWarning)\n"
          ]
        },
        {
          "output_type": "execute_result",
          "data": {
            "text/plain": [
              "['yield_xgb_pipeline.pkl']"
            ]
          },
          "metadata": {},
          "execution_count": 5
        }
      ]
    },
    {
      "cell_type": "markdown",
      "source": [
        "Deployment"
      ],
      "metadata": {
        "id": "GHed-FQlTahk"
      }
    },
    {
      "cell_type": "code",
      "source": [
        "#print versions of numpy, pandas and sklearn\n",
        "import numpy as np\n",
        "import pandas as pd\n",
        "import sklearn\n",
        "print(\"numpy version:\", np.__version__)\n",
        "print(\"pandas version:\", pd.__version__)\n",
        "print(\"sklearn version:\", sklearn.__version__)"
      ],
      "metadata": {
        "colab": {
          "base_uri": "https://localhost:8080/"
        },
        "id": "Xkj3l5moTbvo",
        "outputId": "260bd57b-ccd9-427d-d6d9-098faff236a7"
      },
      "execution_count": 53,
      "outputs": [
        {
          "output_type": "stream",
          "name": "stdout",
          "text": [
            "numpy version: 2.0.2\n",
            "pandas version: 2.2.2\n",
            "sklearn version: 1.6.1\n"
          ]
        }
      ]
    },
    {
      "cell_type": "markdown",
      "source": [
        "Download the model from Colab"
      ],
      "metadata": {
        "id": "gMs_KV6tvryv"
      }
    },
    {
      "cell_type": "code",
      "source": [
        "#download pkl file from colab\n",
        "from google.colab import files\n",
        "files.download('yield_xgb_pipeline.pkl')"
      ],
      "metadata": {
        "colab": {
          "base_uri": "https://localhost:8080/",
          "height": 17
        },
        "id": "E_zsMfRB54zv",
        "outputId": "9c03d64f-d424-478c-e13e-4bb2fd3dd55a"
      },
      "execution_count": 69,
      "outputs": [
        {
          "output_type": "display_data",
          "data": {
            "text/plain": [
              "<IPython.core.display.Javascript object>"
            ],
            "application/javascript": [
              "\n",
              "    async function download(id, filename, size) {\n",
              "      if (!google.colab.kernel.accessAllowed) {\n",
              "        return;\n",
              "      }\n",
              "      const div = document.createElement('div');\n",
              "      const label = document.createElement('label');\n",
              "      label.textContent = `Downloading \"${filename}\": `;\n",
              "      div.appendChild(label);\n",
              "      const progress = document.createElement('progress');\n",
              "      progress.max = size;\n",
              "      div.appendChild(progress);\n",
              "      document.body.appendChild(div);\n",
              "\n",
              "      const buffers = [];\n",
              "      let downloaded = 0;\n",
              "\n",
              "      const channel = await google.colab.kernel.comms.open(id);\n",
              "      // Send a message to notify the kernel that we're ready.\n",
              "      channel.send({})\n",
              "\n",
              "      for await (const message of channel.messages) {\n",
              "        // Send a message to notify the kernel that we're ready.\n",
              "        channel.send({})\n",
              "        if (message.buffers) {\n",
              "          for (const buffer of message.buffers) {\n",
              "            buffers.push(buffer);\n",
              "            downloaded += buffer.byteLength;\n",
              "            progress.value = downloaded;\n",
              "          }\n",
              "        }\n",
              "      }\n",
              "      const blob = new Blob(buffers, {type: 'application/binary'});\n",
              "      const a = document.createElement('a');\n",
              "      a.href = window.URL.createObjectURL(blob);\n",
              "      a.download = filename;\n",
              "      div.appendChild(a);\n",
              "      a.click();\n",
              "      div.remove();\n",
              "    }\n",
              "  "
            ]
          },
          "metadata": {}
        },
        {
          "output_type": "display_data",
          "data": {
            "text/plain": [
              "<IPython.core.display.Javascript object>"
            ],
            "application/javascript": [
              "download(\"download_20ade33b-f3c4-4233-9ce4-404c2062ac69\", \"yield_xgb_pipeline.pkl\", 3306574)"
            ]
          },
          "metadata": {}
        }
      ]
    },
    {
      "cell_type": "markdown",
      "source": [
        "You're at the upper end of what linear models can reasonably offer. Any further gains will likely be small and incremental — or may require moving to non-linear models (e.g., gradient boosting, random forest) if the goal shifts toward pure predictive performance over interpretability."
      ],
      "metadata": {
        "id": "frxa5vMXMfhH"
      }
    },
    {
      "cell_type": "markdown",
      "source": [
        "WHAT ARE THE HYPERPARAMETERS DID YOU USE AND THEIR SIGNIFICANCE"
      ],
      "metadata": {
        "id": "XWsiDxQp3go-"
      }
    },
    {
      "cell_type": "markdown",
      "source": [
        "Check"
      ],
      "metadata": {
        "id": "4DZOGicCjaQR"
      }
    },
    {
      "cell_type": "code",
      "source": [
        "# 1. (Only if you haven’t already) install dependencies\n",
        "!pip install xgboost joblib\n",
        "\n",
        "# 2. Imports\n",
        "import pandas as pd\n",
        "import joblib\n",
        "\n",
        "# 3. Load your trained pipeline\n",
        "#    Make sure you've uploaded yield_xgb_pipeline.pkl to the Colab filesystem,\n",
        "#    e.g. via the \"Files\" pane or `from google.colab import files; files.upload()`\n",
        "pipeline = joblib.load(\"yield_xgb_pipeline.pkl\")\n",
        "\n",
        "# 4. Prepare the single‐row input\n",
        "#    All text should be lowercase & stripped to match your preprocessing\n",
        "new_obs = pd.DataFrame([{\n",
        "    \"Crop\":       \"arecanut\",\n",
        "    \"Season\":     \"kharif\",\n",
        "    \"District\":   \"nicobars\",\n",
        "    # FValueEncoder will build this column internally, but since our pipeline\n",
        "    # expects a 'crop_season' column, we need to provide it here:\n",
        "    \"crop_season\":\"arecanut_kharif\"\n",
        "}])\n",
        "\n",
        "# 5. Predict\n",
        "pred_yield = pipeline.predict(new_obs)\n",
        "\n",
        "print(f\"Predicted capped yield for Nicobars / Arecanut / Kharif: {pred_yield[0]:.2f} t/ha\")\n"
      ],
      "metadata": {
        "colab": {
          "base_uri": "https://localhost:8080/"
        },
        "id": "x-F-kRVjhr18",
        "outputId": "8a1f693a-bcc0-45a0-bedd-e1b33d14445d"
      },
      "execution_count": 6,
      "outputs": [
        {
          "output_type": "stream",
          "name": "stdout",
          "text": [
            "Requirement already satisfied: xgboost in /usr/local/lib/python3.11/dist-packages (2.1.4)\n",
            "Requirement already satisfied: joblib in /usr/local/lib/python3.11/dist-packages (1.5.1)\n",
            "Requirement already satisfied: numpy in /usr/local/lib/python3.11/dist-packages (from xgboost) (2.0.2)\n",
            "Requirement already satisfied: nvidia-nccl-cu12 in /usr/local/lib/python3.11/dist-packages (from xgboost) (2.21.5)\n",
            "Requirement already satisfied: scipy in /usr/local/lib/python3.11/dist-packages (from xgboost) (1.15.3)\n",
            "Predicted capped yield for Nicobars / Arecanut / Kharif: 3.29 t/ha\n"
          ]
        }
      ]
    }
  ]
}